{
 "cells": [
  {
   "cell_type": "markdown",
   "metadata": {},
   "source": [
    "# Project: Investigate a Dataset (TMDb movie dataset)\n",
    "\n",
    "## Table of Contents\n",
    "<ul>\n",
    "<li><a href=\"#intro\">Introduction</a></li>\n",
    "<li><a href=\"#wrangling\">Data Wrangling</a></li>\n",
    "<li><a href=\"#eda\">Exploratory Data Analysis</a></li>\n",
    "<li><a href=\"#conclusions\">Conclusions</a></li>\n",
    "</ul>"
   ]
  },
  {
   "cell_type": "markdown",
   "metadata": {},
   "source": [
    "<a id='intro'></a>\n",
    "## Introduction\n",
    "\n",
    "This dataset contains information about 10,000 movies collected from The Movie Database(TMDb), including user ratings and revenue. The questions I am trying to answer are: \n",
    "* Which genres are most popular from year to year?\n",
    "* What kinds of properties are associated with movies that have high revenues?\n",
    "* Which movies are popular year by year?"
   ]
  },
  {
   "cell_type": "code",
   "execution_count": 297,
   "metadata": {},
   "outputs": [],
   "source": [
    "import pandas as pd\n",
    "import numpy as np\n",
    "import matplotlib.pyplot as plt\n",
    "from collections import Counter\n",
    "%matplotlib inline"
   ]
  },
  {
   "cell_type": "markdown",
   "metadata": {},
   "source": [
    "<a id='wrangling'></a>\n",
    "## Data Wrangling\n",
    "\n",
    "### General Properties"
   ]
  },
  {
   "cell_type": "markdown",
   "metadata": {},
   "source": [
    "Loading data:"
   ]
  },
  {
   "cell_type": "code",
   "execution_count": 298,
   "metadata": {},
   "outputs": [],
   "source": [
    "df = pd.read_csv(\"tmdb-movies.csv\")"
   ]
  },
  {
   "cell_type": "markdown",
   "metadata": {},
   "source": [
    "Printing few lines:"
   ]
  },
  {
   "cell_type": "code",
   "execution_count": 299,
   "metadata": {
    "scrolled": true
   },
   "outputs": [
    {
     "data": {
      "text/html": [
       "<div>\n",
       "<style>\n",
       "    .dataframe thead tr:only-child th {\n",
       "        text-align: right;\n",
       "    }\n",
       "\n",
       "    .dataframe thead th {\n",
       "        text-align: left;\n",
       "    }\n",
       "\n",
       "    .dataframe tbody tr th {\n",
       "        vertical-align: top;\n",
       "    }\n",
       "</style>\n",
       "<table border=\"1\" class=\"dataframe\">\n",
       "  <thead>\n",
       "    <tr style=\"text-align: right;\">\n",
       "      <th></th>\n",
       "      <th>id</th>\n",
       "      <th>imdb_id</th>\n",
       "      <th>popularity</th>\n",
       "      <th>budget</th>\n",
       "      <th>revenue</th>\n",
       "      <th>original_title</th>\n",
       "      <th>cast</th>\n",
       "      <th>homepage</th>\n",
       "      <th>director</th>\n",
       "      <th>tagline</th>\n",
       "      <th>...</th>\n",
       "      <th>overview</th>\n",
       "      <th>runtime</th>\n",
       "      <th>genres</th>\n",
       "      <th>production_companies</th>\n",
       "      <th>release_date</th>\n",
       "      <th>vote_count</th>\n",
       "      <th>vote_average</th>\n",
       "      <th>release_year</th>\n",
       "      <th>budget_adj</th>\n",
       "      <th>revenue_adj</th>\n",
       "    </tr>\n",
       "  </thead>\n",
       "  <tbody>\n",
       "    <tr>\n",
       "      <th>0</th>\n",
       "      <td>135397</td>\n",
       "      <td>tt0369610</td>\n",
       "      <td>32.985763</td>\n",
       "      <td>150000000</td>\n",
       "      <td>1513528810</td>\n",
       "      <td>Jurassic World</td>\n",
       "      <td>Chris Pratt|Bryce Dallas Howard|Irrfan Khan|Vi...</td>\n",
       "      <td>http://www.jurassicworld.com/</td>\n",
       "      <td>Colin Trevorrow</td>\n",
       "      <td>The park is open.</td>\n",
       "      <td>...</td>\n",
       "      <td>Twenty-two years after the events of Jurassic ...</td>\n",
       "      <td>124</td>\n",
       "      <td>Action|Adventure|Science Fiction|Thriller</td>\n",
       "      <td>Universal Studios|Amblin Entertainment|Legenda...</td>\n",
       "      <td>6/9/15</td>\n",
       "      <td>5562</td>\n",
       "      <td>6.5</td>\n",
       "      <td>2015</td>\n",
       "      <td>1.379999e+08</td>\n",
       "      <td>1.392446e+09</td>\n",
       "    </tr>\n",
       "    <tr>\n",
       "      <th>1</th>\n",
       "      <td>76341</td>\n",
       "      <td>tt1392190</td>\n",
       "      <td>28.419936</td>\n",
       "      <td>150000000</td>\n",
       "      <td>378436354</td>\n",
       "      <td>Mad Max: Fury Road</td>\n",
       "      <td>Tom Hardy|Charlize Theron|Hugh Keays-Byrne|Nic...</td>\n",
       "      <td>http://www.madmaxmovie.com/</td>\n",
       "      <td>George Miller</td>\n",
       "      <td>What a Lovely Day.</td>\n",
       "      <td>...</td>\n",
       "      <td>An apocalyptic story set in the furthest reach...</td>\n",
       "      <td>120</td>\n",
       "      <td>Action|Adventure|Science Fiction|Thriller</td>\n",
       "      <td>Village Roadshow Pictures|Kennedy Miller Produ...</td>\n",
       "      <td>5/13/15</td>\n",
       "      <td>6185</td>\n",
       "      <td>7.1</td>\n",
       "      <td>2015</td>\n",
       "      <td>1.379999e+08</td>\n",
       "      <td>3.481613e+08</td>\n",
       "    </tr>\n",
       "    <tr>\n",
       "      <th>2</th>\n",
       "      <td>262500</td>\n",
       "      <td>tt2908446</td>\n",
       "      <td>13.112507</td>\n",
       "      <td>110000000</td>\n",
       "      <td>295238201</td>\n",
       "      <td>Insurgent</td>\n",
       "      <td>Shailene Woodley|Theo James|Kate Winslet|Ansel...</td>\n",
       "      <td>http://www.thedivergentseries.movie/#insurgent</td>\n",
       "      <td>Robert Schwentke</td>\n",
       "      <td>One Choice Can Destroy You</td>\n",
       "      <td>...</td>\n",
       "      <td>Beatrice Prior must confront her inner demons ...</td>\n",
       "      <td>119</td>\n",
       "      <td>Adventure|Science Fiction|Thriller</td>\n",
       "      <td>Summit Entertainment|Mandeville Films|Red Wago...</td>\n",
       "      <td>3/18/15</td>\n",
       "      <td>2480</td>\n",
       "      <td>6.3</td>\n",
       "      <td>2015</td>\n",
       "      <td>1.012000e+08</td>\n",
       "      <td>2.716190e+08</td>\n",
       "    </tr>\n",
       "    <tr>\n",
       "      <th>3</th>\n",
       "      <td>140607</td>\n",
       "      <td>tt2488496</td>\n",
       "      <td>11.173104</td>\n",
       "      <td>200000000</td>\n",
       "      <td>2068178225</td>\n",
       "      <td>Star Wars: The Force Awakens</td>\n",
       "      <td>Harrison Ford|Mark Hamill|Carrie Fisher|Adam D...</td>\n",
       "      <td>http://www.starwars.com/films/star-wars-episod...</td>\n",
       "      <td>J.J. Abrams</td>\n",
       "      <td>Every generation has a story.</td>\n",
       "      <td>...</td>\n",
       "      <td>Thirty years after defeating the Galactic Empi...</td>\n",
       "      <td>136</td>\n",
       "      <td>Action|Adventure|Science Fiction|Fantasy</td>\n",
       "      <td>Lucasfilm|Truenorth Productions|Bad Robot</td>\n",
       "      <td>12/15/15</td>\n",
       "      <td>5292</td>\n",
       "      <td>7.5</td>\n",
       "      <td>2015</td>\n",
       "      <td>1.839999e+08</td>\n",
       "      <td>1.902723e+09</td>\n",
       "    </tr>\n",
       "    <tr>\n",
       "      <th>4</th>\n",
       "      <td>168259</td>\n",
       "      <td>tt2820852</td>\n",
       "      <td>9.335014</td>\n",
       "      <td>190000000</td>\n",
       "      <td>1506249360</td>\n",
       "      <td>Furious 7</td>\n",
       "      <td>Vin Diesel|Paul Walker|Jason Statham|Michelle ...</td>\n",
       "      <td>http://www.furious7.com/</td>\n",
       "      <td>James Wan</td>\n",
       "      <td>Vengeance Hits Home</td>\n",
       "      <td>...</td>\n",
       "      <td>Deckard Shaw seeks revenge against Dominic Tor...</td>\n",
       "      <td>137</td>\n",
       "      <td>Action|Crime|Thriller</td>\n",
       "      <td>Universal Pictures|Original Film|Media Rights ...</td>\n",
       "      <td>4/1/15</td>\n",
       "      <td>2947</td>\n",
       "      <td>7.3</td>\n",
       "      <td>2015</td>\n",
       "      <td>1.747999e+08</td>\n",
       "      <td>1.385749e+09</td>\n",
       "    </tr>\n",
       "  </tbody>\n",
       "</table>\n",
       "<p>5 rows × 21 columns</p>\n",
       "</div>"
      ],
      "text/plain": [
       "       id    imdb_id  popularity     budget     revenue  \\\n",
       "0  135397  tt0369610   32.985763  150000000  1513528810   \n",
       "1   76341  tt1392190   28.419936  150000000   378436354   \n",
       "2  262500  tt2908446   13.112507  110000000   295238201   \n",
       "3  140607  tt2488496   11.173104  200000000  2068178225   \n",
       "4  168259  tt2820852    9.335014  190000000  1506249360   \n",
       "\n",
       "                 original_title  \\\n",
       "0                Jurassic World   \n",
       "1            Mad Max: Fury Road   \n",
       "2                     Insurgent   \n",
       "3  Star Wars: The Force Awakens   \n",
       "4                     Furious 7   \n",
       "\n",
       "                                                cast  \\\n",
       "0  Chris Pratt|Bryce Dallas Howard|Irrfan Khan|Vi...   \n",
       "1  Tom Hardy|Charlize Theron|Hugh Keays-Byrne|Nic...   \n",
       "2  Shailene Woodley|Theo James|Kate Winslet|Ansel...   \n",
       "3  Harrison Ford|Mark Hamill|Carrie Fisher|Adam D...   \n",
       "4  Vin Diesel|Paul Walker|Jason Statham|Michelle ...   \n",
       "\n",
       "                                            homepage          director  \\\n",
       "0                      http://www.jurassicworld.com/   Colin Trevorrow   \n",
       "1                        http://www.madmaxmovie.com/     George Miller   \n",
       "2     http://www.thedivergentseries.movie/#insurgent  Robert Schwentke   \n",
       "3  http://www.starwars.com/films/star-wars-episod...       J.J. Abrams   \n",
       "4                           http://www.furious7.com/         James Wan   \n",
       "\n",
       "                         tagline      ...       \\\n",
       "0              The park is open.      ...        \n",
       "1             What a Lovely Day.      ...        \n",
       "2     One Choice Can Destroy You      ...        \n",
       "3  Every generation has a story.      ...        \n",
       "4            Vengeance Hits Home      ...        \n",
       "\n",
       "                                            overview runtime  \\\n",
       "0  Twenty-two years after the events of Jurassic ...     124   \n",
       "1  An apocalyptic story set in the furthest reach...     120   \n",
       "2  Beatrice Prior must confront her inner demons ...     119   \n",
       "3  Thirty years after defeating the Galactic Empi...     136   \n",
       "4  Deckard Shaw seeks revenge against Dominic Tor...     137   \n",
       "\n",
       "                                      genres  \\\n",
       "0  Action|Adventure|Science Fiction|Thriller   \n",
       "1  Action|Adventure|Science Fiction|Thriller   \n",
       "2         Adventure|Science Fiction|Thriller   \n",
       "3   Action|Adventure|Science Fiction|Fantasy   \n",
       "4                      Action|Crime|Thriller   \n",
       "\n",
       "                                production_companies release_date vote_count  \\\n",
       "0  Universal Studios|Amblin Entertainment|Legenda...       6/9/15       5562   \n",
       "1  Village Roadshow Pictures|Kennedy Miller Produ...      5/13/15       6185   \n",
       "2  Summit Entertainment|Mandeville Films|Red Wago...      3/18/15       2480   \n",
       "3          Lucasfilm|Truenorth Productions|Bad Robot     12/15/15       5292   \n",
       "4  Universal Pictures|Original Film|Media Rights ...       4/1/15       2947   \n",
       "\n",
       "   vote_average  release_year    budget_adj   revenue_adj  \n",
       "0           6.5          2015  1.379999e+08  1.392446e+09  \n",
       "1           7.1          2015  1.379999e+08  3.481613e+08  \n",
       "2           6.3          2015  1.012000e+08  2.716190e+08  \n",
       "3           7.5          2015  1.839999e+08  1.902723e+09  \n",
       "4           7.3          2015  1.747999e+08  1.385749e+09  \n",
       "\n",
       "[5 rows x 21 columns]"
      ]
     },
     "execution_count": 299,
     "metadata": {},
     "output_type": "execute_result"
    }
   ],
   "source": [
    "df.head(5)"
   ]
  },
  {
   "cell_type": "markdown",
   "metadata": {},
   "source": [
    "<a id='duplicates'></a>\n",
    "Checking for **duplicates**:"
   ]
  },
  {
   "cell_type": "code",
   "execution_count": 300,
   "metadata": {},
   "outputs": [
    {
     "data": {
      "text/plain": [
       "1"
      ]
     },
     "execution_count": 300,
     "metadata": {},
     "output_type": "execute_result"
    }
   ],
   "source": [
    "df.duplicated().sum()"
   ]
  },
  {
   "cell_type": "markdown",
   "metadata": {},
   "source": [
    "Removing detected duplicated rows."
   ]
  },
  {
   "cell_type": "code",
   "execution_count": 301,
   "metadata": {},
   "outputs": [],
   "source": [
    "df.drop_duplicates(inplace = True)"
   ]
  },
  {
   "cell_type": "markdown",
   "metadata": {},
   "source": [
    "Verifying:"
   ]
  },
  {
   "cell_type": "code",
   "execution_count": 302,
   "metadata": {},
   "outputs": [
    {
     "data": {
      "text/plain": [
       "0"
      ]
     },
     "execution_count": 302,
     "metadata": {},
     "output_type": "execute_result"
    }
   ],
   "source": [
    "df.duplicated().sum()"
   ]
  },
  {
   "cell_type": "markdown",
   "metadata": {},
   "source": [
    "Checking for data types:"
   ]
  },
  {
   "cell_type": "code",
   "execution_count": 303,
   "metadata": {
    "scrolled": true
   },
   "outputs": [
    {
     "name": "stdout",
     "output_type": "stream",
     "text": [
      "<class 'pandas.core.frame.DataFrame'>\n",
      "Int64Index: 10865 entries, 0 to 10865\n",
      "Data columns (total 21 columns):\n",
      "id                      10865 non-null int64\n",
      "imdb_id                 10855 non-null object\n",
      "popularity              10865 non-null float64\n",
      "budget                  10865 non-null int64\n",
      "revenue                 10865 non-null int64\n",
      "original_title          10865 non-null object\n",
      "cast                    10789 non-null object\n",
      "homepage                2936 non-null object\n",
      "director                10821 non-null object\n",
      "tagline                 8041 non-null object\n",
      "keywords                9372 non-null object\n",
      "overview                10861 non-null object\n",
      "runtime                 10865 non-null int64\n",
      "genres                  10842 non-null object\n",
      "production_companies    9835 non-null object\n",
      "release_date            10865 non-null object\n",
      "vote_count              10865 non-null int64\n",
      "vote_average            10865 non-null float64\n",
      "release_year            10865 non-null int64\n",
      "budget_adj              10865 non-null float64\n",
      "revenue_adj             10865 non-null float64\n",
      "dtypes: float64(4), int64(6), object(11)\n",
      "memory usage: 1.8+ MB\n"
     ]
    }
   ],
   "source": [
    "df.info()"
   ]
  },
  {
   "cell_type": "markdown",
   "metadata": {},
   "source": [
    "`release_date` column needs to be _datetime_ object instead of string.\n",
    "\n",
    "Converting `release_date` column to _datetime_ object:"
   ]
  },
  {
   "cell_type": "code",
   "execution_count": 304,
   "metadata": {},
   "outputs": [],
   "source": [
    "import datetime as dt # for convering to date time object\n",
    "df['release_date'] = df['release_date'].apply(lambda x: dt.datetime.strptime(x, \"%m/%d/%y\"))"
   ]
  },
  {
   "cell_type": "code",
   "execution_count": 305,
   "metadata": {},
   "outputs": [
    {
     "data": {
      "text/plain": [
       "0   2015-06-09\n",
       "1   2015-05-13\n",
       "2   2015-03-18\n",
       "3   2015-12-15\n",
       "4   2015-04-01\n",
       "Name: release_date, dtype: datetime64[ns]"
      ]
     },
     "execution_count": 305,
     "metadata": {},
     "output_type": "execute_result"
    }
   ],
   "source": [
    "df['release_date'].head()"
   ]
  },
  {
   "cell_type": "code",
   "execution_count": 306,
   "metadata": {},
   "outputs": [
    {
     "data": {
      "text/plain": [
       "10861   2066-06-15\n",
       "10862   2066-12-21\n",
       "10863   2066-01-01\n",
       "10864   2066-11-02\n",
       "10865   2066-11-15\n",
       "Name: release_date, dtype: datetime64[ns]"
      ]
     },
     "execution_count": 306,
     "metadata": {},
     "output_type": "execute_result"
    }
   ],
   "source": [
    "df['release_date'].tail()"
   ]
  },
  {
   "cell_type": "markdown",
   "metadata": {},
   "source": [
    "Looks like there is problem in getting year value for some datetime objects. Let's see which years were converted incorrectly.\n",
    "\n",
    "We had year range of 1960-2015(both inclusive) but 2066 is showing in above code cell.\n",
    "\n",
    "Checking list of years after conversion:"
   ]
  },
  {
   "cell_type": "code",
   "execution_count": 307,
   "metadata": {},
   "outputs": [
    {
     "name": "stdout",
     "output_type": "stream",
     "text": [
      "[2060, 2061, 2062, 2063, 2064, 2065, 2066, 2067, 2068, 1969, 1970, 1971, 1972, 1973, 1974, 1975, 1976, 1977, 1978, 1979, 1980, 1981, 1982, 1983, 1984, 1985, 1986, 1987, 1988, 1989, 1990, 1991, 1992, 1993, 1994, 1995, 1996, 1997, 1998, 1999, 2000, 2001, 2002, 2003, 2004, 2005, 2006, 2007, 2008, 2009, 2010, 2011, 2012, 2013, 2014, 2015]\n"
     ]
    }
   ],
   "source": [
    "years = []\n",
    "for _ in df['release_date']:\n",
    "    years.append(_.year)\n",
    "print(list(set(years)))"
   ]
  },
  {
   "cell_type": "markdown",
   "metadata": {},
   "source": [
    "There is no logical reason for this error, but historically, Diaries **1969-1979** are known as The Python Years. I think may be this is the reason why years before **1969** were converted to 21st centruy years instead of correct years(like 68 may be interpreted by Python as 2068 instead of 1968).Python experience started in full swing in [1969](https://en.wikipedia.org/wiki/Diaries_1969%E2%80%931979:_The_Python_Years). This is just my way to explain this error.\n",
    "\n",
    "Correcting year values for 2060-2068(both inclusive) by shifting 100 years back:"
   ]
  },
  {
   "cell_type": "code",
   "execution_count": 308,
   "metadata": {},
   "outputs": [],
   "source": [
    "d_100 = []\n",
    "years = 100\n",
    "days_per_year = 365.24"
   ]
  },
  {
   "cell_type": "code",
   "execution_count": 309,
   "metadata": {},
   "outputs": [],
   "source": [
    "for d in df['release_date']:\n",
    "    if d.year >=2060:\n",
    "        #shifting 100 years back\n",
    "        tdelta = dt.timedelta(days = (years * days_per_year))\n",
    "        # corrected date\n",
    "        d-=tdelta\n",
    "        d_100.append(d)\n",
    "    else:\n",
    "        #as it is\n",
    "        d_100.append(d)"
   ]
  },
  {
   "cell_type": "markdown",
   "metadata": {},
   "source": [
    "We are not directly shifting _years_ by -100 in one go because `year` argument is unavailable in `dt.timedelta()` method.\n",
    "\n",
    "Now **replacing** the original `release_date` column(which was string type) with list `d_100`(which is corrected version of `release_date`)."
   ]
  },
  {
   "cell_type": "code",
   "execution_count": 310,
   "metadata": {},
   "outputs": [],
   "source": [
    "df['release_date'] = d_100"
   ]
  },
  {
   "cell_type": "code",
   "execution_count": 311,
   "metadata": {},
   "outputs": [
    {
     "name": "stdout",
     "output_type": "stream",
     "text": [
      "[1960, 1961, 1962, 1963, 1964, 1965, 1966, 1967, 1968, 1969, 1970, 1971, 1972, 1973, 1974, 1975, 1976, 1977, 1978, 1979, 1980, 1981, 1982, 1983, 1984, 1985, 1986, 1987, 1988, 1989, 1990, 1991, 1992, 1993, 1994, 1995, 1996, 1997, 1998, 1999, 2000, 2001, 2002, 2003, 2004, 2005, 2006, 2007, 2008, 2009, 2010, 2011, 2012, 2013, 2014, 2015]\n"
     ]
    }
   ],
   "source": [
    "# verifying\n",
    "d = []\n",
    "for _ in df['release_date']:\n",
    "    d.append(_.year)\n",
    "print(list(set(d)))"
   ]
  },
  {
   "cell_type": "markdown",
   "metadata": {},
   "source": [
    "### Data Cleaning (Removing undesired columns and handling missing data)"
   ]
  },
  {
   "cell_type": "markdown",
   "metadata": {},
   "source": [
    "Let's see which columns are important for our analysis:"
   ]
  },
  {
   "cell_type": "code",
   "execution_count": 312,
   "metadata": {},
   "outputs": [
    {
     "data": {
      "text/html": [
       "<div>\n",
       "<style>\n",
       "    .dataframe thead tr:only-child th {\n",
       "        text-align: right;\n",
       "    }\n",
       "\n",
       "    .dataframe thead th {\n",
       "        text-align: left;\n",
       "    }\n",
       "\n",
       "    .dataframe tbody tr th {\n",
       "        vertical-align: top;\n",
       "    }\n",
       "</style>\n",
       "<table border=\"1\" class=\"dataframe\">\n",
       "  <thead>\n",
       "    <tr style=\"text-align: right;\">\n",
       "      <th></th>\n",
       "      <th>id</th>\n",
       "      <th>imdb_id</th>\n",
       "      <th>popularity</th>\n",
       "      <th>budget</th>\n",
       "      <th>revenue</th>\n",
       "      <th>original_title</th>\n",
       "      <th>cast</th>\n",
       "      <th>homepage</th>\n",
       "      <th>director</th>\n",
       "      <th>tagline</th>\n",
       "      <th>...</th>\n",
       "      <th>overview</th>\n",
       "      <th>runtime</th>\n",
       "      <th>genres</th>\n",
       "      <th>production_companies</th>\n",
       "      <th>release_date</th>\n",
       "      <th>vote_count</th>\n",
       "      <th>vote_average</th>\n",
       "      <th>release_year</th>\n",
       "      <th>budget_adj</th>\n",
       "      <th>revenue_adj</th>\n",
       "    </tr>\n",
       "  </thead>\n",
       "  <tbody>\n",
       "    <tr>\n",
       "      <th>0</th>\n",
       "      <td>135397</td>\n",
       "      <td>tt0369610</td>\n",
       "      <td>32.985763</td>\n",
       "      <td>150000000</td>\n",
       "      <td>1513528810</td>\n",
       "      <td>Jurassic World</td>\n",
       "      <td>Chris Pratt|Bryce Dallas Howard|Irrfan Khan|Vi...</td>\n",
       "      <td>http://www.jurassicworld.com/</td>\n",
       "      <td>Colin Trevorrow</td>\n",
       "      <td>The park is open.</td>\n",
       "      <td>...</td>\n",
       "      <td>Twenty-two years after the events of Jurassic ...</td>\n",
       "      <td>124</td>\n",
       "      <td>Action|Adventure|Science Fiction|Thriller</td>\n",
       "      <td>Universal Studios|Amblin Entertainment|Legenda...</td>\n",
       "      <td>2015-06-09</td>\n",
       "      <td>5562</td>\n",
       "      <td>6.5</td>\n",
       "      <td>2015</td>\n",
       "      <td>1.379999e+08</td>\n",
       "      <td>1.392446e+09</td>\n",
       "    </tr>\n",
       "    <tr>\n",
       "      <th>1</th>\n",
       "      <td>76341</td>\n",
       "      <td>tt1392190</td>\n",
       "      <td>28.419936</td>\n",
       "      <td>150000000</td>\n",
       "      <td>378436354</td>\n",
       "      <td>Mad Max: Fury Road</td>\n",
       "      <td>Tom Hardy|Charlize Theron|Hugh Keays-Byrne|Nic...</td>\n",
       "      <td>http://www.madmaxmovie.com/</td>\n",
       "      <td>George Miller</td>\n",
       "      <td>What a Lovely Day.</td>\n",
       "      <td>...</td>\n",
       "      <td>An apocalyptic story set in the furthest reach...</td>\n",
       "      <td>120</td>\n",
       "      <td>Action|Adventure|Science Fiction|Thriller</td>\n",
       "      <td>Village Roadshow Pictures|Kennedy Miller Produ...</td>\n",
       "      <td>2015-05-13</td>\n",
       "      <td>6185</td>\n",
       "      <td>7.1</td>\n",
       "      <td>2015</td>\n",
       "      <td>1.379999e+08</td>\n",
       "      <td>3.481613e+08</td>\n",
       "    </tr>\n",
       "    <tr>\n",
       "      <th>2</th>\n",
       "      <td>262500</td>\n",
       "      <td>tt2908446</td>\n",
       "      <td>13.112507</td>\n",
       "      <td>110000000</td>\n",
       "      <td>295238201</td>\n",
       "      <td>Insurgent</td>\n",
       "      <td>Shailene Woodley|Theo James|Kate Winslet|Ansel...</td>\n",
       "      <td>http://www.thedivergentseries.movie/#insurgent</td>\n",
       "      <td>Robert Schwentke</td>\n",
       "      <td>One Choice Can Destroy You</td>\n",
       "      <td>...</td>\n",
       "      <td>Beatrice Prior must confront her inner demons ...</td>\n",
       "      <td>119</td>\n",
       "      <td>Adventure|Science Fiction|Thriller</td>\n",
       "      <td>Summit Entertainment|Mandeville Films|Red Wago...</td>\n",
       "      <td>2015-03-18</td>\n",
       "      <td>2480</td>\n",
       "      <td>6.3</td>\n",
       "      <td>2015</td>\n",
       "      <td>1.012000e+08</td>\n",
       "      <td>2.716190e+08</td>\n",
       "    </tr>\n",
       "  </tbody>\n",
       "</table>\n",
       "<p>3 rows × 21 columns</p>\n",
       "</div>"
      ],
      "text/plain": [
       "       id    imdb_id  popularity     budget     revenue      original_title  \\\n",
       "0  135397  tt0369610   32.985763  150000000  1513528810      Jurassic World   \n",
       "1   76341  tt1392190   28.419936  150000000   378436354  Mad Max: Fury Road   \n",
       "2  262500  tt2908446   13.112507  110000000   295238201           Insurgent   \n",
       "\n",
       "                                                cast  \\\n",
       "0  Chris Pratt|Bryce Dallas Howard|Irrfan Khan|Vi...   \n",
       "1  Tom Hardy|Charlize Theron|Hugh Keays-Byrne|Nic...   \n",
       "2  Shailene Woodley|Theo James|Kate Winslet|Ansel...   \n",
       "\n",
       "                                         homepage          director  \\\n",
       "0                   http://www.jurassicworld.com/   Colin Trevorrow   \n",
       "1                     http://www.madmaxmovie.com/     George Miller   \n",
       "2  http://www.thedivergentseries.movie/#insurgent  Robert Schwentke   \n",
       "\n",
       "                      tagline      ...       \\\n",
       "0           The park is open.      ...        \n",
       "1          What a Lovely Day.      ...        \n",
       "2  One Choice Can Destroy You      ...        \n",
       "\n",
       "                                            overview runtime  \\\n",
       "0  Twenty-two years after the events of Jurassic ...     124   \n",
       "1  An apocalyptic story set in the furthest reach...     120   \n",
       "2  Beatrice Prior must confront her inner demons ...     119   \n",
       "\n",
       "                                      genres  \\\n",
       "0  Action|Adventure|Science Fiction|Thriller   \n",
       "1  Action|Adventure|Science Fiction|Thriller   \n",
       "2         Adventure|Science Fiction|Thriller   \n",
       "\n",
       "                                production_companies release_date vote_count  \\\n",
       "0  Universal Studios|Amblin Entertainment|Legenda...   2015-06-09       5562   \n",
       "1  Village Roadshow Pictures|Kennedy Miller Produ...   2015-05-13       6185   \n",
       "2  Summit Entertainment|Mandeville Films|Red Wago...   2015-03-18       2480   \n",
       "\n",
       "   vote_average  release_year    budget_adj   revenue_adj  \n",
       "0           6.5          2015  1.379999e+08  1.392446e+09  \n",
       "1           7.1          2015  1.379999e+08  3.481613e+08  \n",
       "2           6.3          2015  1.012000e+08  2.716190e+08  \n",
       "\n",
       "[3 rows x 21 columns]"
      ]
     },
     "execution_count": 312,
     "metadata": {},
     "output_type": "execute_result"
    }
   ],
   "source": [
    "df.head(3)"
   ]
  },
  {
   "cell_type": "code",
   "execution_count": 313,
   "metadata": {},
   "outputs": [
    {
     "data": {
      "text/plain": [
       "(10865, 10865, 10865)"
      ]
     },
     "execution_count": 313,
     "metadata": {},
     "output_type": "execute_result"
    }
   ],
   "source": [
    "len(df['id']), len(df['imdb_id']), df.shape[0]"
   ]
  },
  {
   "cell_type": "markdown",
   "metadata": {},
   "source": [
    "<a href=\"#duplicates\">Duplicates</a> being removed in earlier part of my analysis, columns `['id', 'imdb_id']` are not important for my analysis. These values are unique for each row, so it's better to use row index instead of these columns."
   ]
  },
  {
   "cell_type": "code",
   "execution_count": 314,
   "metadata": {},
   "outputs": [],
   "source": [
    "df.drop(['id', 'imdb_id'], axis = 1, inplace = True)"
   ]
  },
  {
   "cell_type": "markdown",
   "metadata": {},
   "source": [
    "Let's see if columns `['overview', 'original_title', 'homepage', 'tagline', 'production_companies', 'keywords']` can be considered as considered as **categorical** variables or not."
   ]
  },
  {
   "cell_type": "code",
   "execution_count": 315,
   "metadata": {},
   "outputs": [
    {
     "name": "stdout",
     "output_type": "stream",
     "text": [
      "{'original_title': 10571, 'homepage': 2896, 'tagline': 7997, 'keywords': 8804, 'overview': 10847, 'production_companies': 7445}\n"
     ]
    }
   ],
   "source": [
    "test_col = ['overview', 'original_title', 'homepage', 'tagline', 'production_companies', 'keywords'] # 6 columns\n",
    "new_dict = {}\n",
    "for column in df:\n",
    "    if column in test_col:\n",
    "        new_dict[column] = df[column].nunique()\n",
    "print(new_dict)"
   ]
  },
  {
   "cell_type": "markdown",
   "metadata": {},
   "source": [
    "Levels of these 6 columns are very big. If levels for a certain column would have been around 10 then it is ok to consider that column as a categorical variable and faceting could be done based on that categorical column.\n",
    "\n",
    "But here, levels are 10571, 2896, 7997, 8804, 10847, 7445. Number of rows(10865) are around this much level. Faceting will be inconvenient.\n",
    "\n",
    "So, removing these columns, too, will not affect the result."
   ]
  },
  {
   "cell_type": "code",
   "execution_count": 316,
   "metadata": {},
   "outputs": [],
   "source": [
    "df.drop(['overview', 'original_title', 'homepage', 'tagline', 'production_companies', 'keywords'], axis = 1, inplace = True)"
   ]
  },
  {
   "cell_type": "markdown",
   "metadata": {},
   "source": [
    "Now handling missing data.\n",
    "\n",
    "Checking for missing data:"
   ]
  },
  {
   "cell_type": "code",
   "execution_count": 317,
   "metadata": {},
   "outputs": [
    {
     "data": {
      "text/plain": [
       "3"
      ]
     },
     "execution_count": 317,
     "metadata": {},
     "output_type": "execute_result"
    }
   ],
   "source": [
    "df.isnull().any().sum()"
   ]
  },
  {
   "cell_type": "markdown",
   "metadata": {},
   "source": [
    "3 columns have missing values.\n",
    "\n",
    "Checking the **incomplete** columns:"
   ]
  },
  {
   "cell_type": "code",
   "execution_count": 318,
   "metadata": {},
   "outputs": [
    {
     "data": {
      "text/plain": [
       "popularity      False\n",
       "budget          False\n",
       "revenue         False\n",
       "cast             True\n",
       "director         True\n",
       "runtime         False\n",
       "genres           True\n",
       "release_date    False\n",
       "vote_count      False\n",
       "vote_average    False\n",
       "release_year    False\n",
       "budget_adj      False\n",
       "revenue_adj     False\n",
       "dtype: bool"
      ]
     },
     "execution_count": 318,
     "metadata": {},
     "output_type": "execute_result"
    }
   ],
   "source": [
    "df.isnull().any()"
   ]
  },
  {
   "cell_type": "markdown",
   "metadata": {},
   "source": [
    "Columns `['cast', 'director', 'genres']` have missing values. Let's see  number of missing values for each of these columns to decide whether it is ok to drop them from dataframe.\n",
    "\n",
    "Creating a subset of `df` which has only incomplete rows:"
   ]
  },
  {
   "cell_type": "code",
   "execution_count": 319,
   "metadata": {},
   "outputs": [
    {
     "data": {
      "text/plain": [
       "134"
      ]
     },
     "execution_count": 319,
     "metadata": {},
     "output_type": "execute_result"
    }
   ],
   "source": [
    "null_data = df[df.isnull().any(axis = 1)]\n",
    "null_data.shape[0]"
   ]
  },
  {
   "cell_type": "code",
   "execution_count": 320,
   "metadata": {},
   "outputs": [
    {
     "data": {
      "text/plain": [
       "1.23"
      ]
     },
     "execution_count": 320,
     "metadata": {},
     "output_type": "execute_result"
    }
   ],
   "source": [
    "round(100*null_data.shape[0]/df.shape[0], 2)"
   ]
  },
  {
   "cell_type": "markdown",
   "metadata": {},
   "source": [
    "There are only 134 incomplete rows in aggregate. That's just 1.2 per cent of `df`. Now, let's see incomplete rows count for each column."
   ]
  },
  {
   "cell_type": "code",
   "execution_count": 321,
   "metadata": {},
   "outputs": [],
   "source": [
    "miss_count = {}\n",
    "for column in null_data:\n",
    "    miss_count[column] = sum(pd.isnull(null_data[column]))"
   ]
  },
  {
   "cell_type": "code",
   "execution_count": 322,
   "metadata": {},
   "outputs": [
    {
     "data": {
      "text/plain": [
       "{'budget': 0,\n",
       " 'budget_adj': 0,\n",
       " 'cast': 76,\n",
       " 'director': 44,\n",
       " 'genres': 23,\n",
       " 'popularity': 0,\n",
       " 'release_date': 0,\n",
       " 'release_year': 0,\n",
       " 'revenue': 0,\n",
       " 'revenue_adj': 0,\n",
       " 'runtime': 0,\n",
       " 'vote_average': 0,\n",
       " 'vote_count': 0}"
      ]
     },
     "execution_count": 322,
     "metadata": {},
     "output_type": "execute_result"
    }
   ],
   "source": [
    "miss_count"
   ]
  },
  {
   "cell_type": "code",
   "execution_count": 323,
   "metadata": {},
   "outputs": [
    {
     "data": {
      "text/plain": [
       "(143, 1.32)"
      ]
     },
     "execution_count": 323,
     "metadata": {},
     "output_type": "execute_result"
    }
   ],
   "source": [
    "76+44+23, round(100*(76+44+23)/df.shape[0], 2) # missing counts for columns: cast, director and genres"
   ]
  },
  {
   "cell_type": "markdown",
   "metadata": {},
   "source": [
    "I created `null_data` just to know how many incomplete rows are there in `df` in aggregate, and whether it is ok to remove them.\n",
    "\n",
    "143 is maximum possible rows in `df`,it is still 1.3 per cent of `df`. Removing 143 or 134 rows will not deviate our result. Removing these incomplete rows(134) from `df`:"
   ]
  },
  {
   "cell_type": "code",
   "execution_count": 324,
   "metadata": {},
   "outputs": [],
   "source": [
    "df.dropna(subset=['cast', 'director', 'genres'], inplace = True)"
   ]
  },
  {
   "cell_type": "markdown",
   "metadata": {},
   "source": [
    "Verifying:"
   ]
  },
  {
   "cell_type": "code",
   "execution_count": 325,
   "metadata": {},
   "outputs": [],
   "source": [
    "miss_count = {}\n",
    "for column in df:\n",
    "    miss_count[column] = sum(pd.isnull(df[column]))"
   ]
  },
  {
   "cell_type": "code",
   "execution_count": 326,
   "metadata": {},
   "outputs": [
    {
     "data": {
      "text/plain": [
       "{'budget': 0,\n",
       " 'budget_adj': 0,\n",
       " 'cast': 0,\n",
       " 'director': 0,\n",
       " 'genres': 0,\n",
       " 'popularity': 0,\n",
       " 'release_date': 0,\n",
       " 'release_year': 0,\n",
       " 'revenue': 0,\n",
       " 'revenue_adj': 0,\n",
       " 'runtime': 0,\n",
       " 'vote_average': 0,\n",
       " 'vote_count': 0}"
      ]
     },
     "execution_count": 326,
     "metadata": {},
     "output_type": "execute_result"
    }
   ],
   "source": [
    "miss_count"
   ]
  },
  {
   "cell_type": "markdown",
   "metadata": {},
   "source": [
    "<a id='eda'></a>\n",
    "## Exploratory Data Analysis\n",
    "\n",
    "### Research Question 1: Which genres are popular year by year?"
   ]
  },
  {
   "cell_type": "markdown",
   "metadata": {},
   "source": [
    "I will first sort my data by `release_date` column for year to year analysis.\n",
    "\n",
    "Sorting by date:"
   ]
  },
  {
   "cell_type": "code",
   "execution_count": 327,
   "metadata": {},
   "outputs": [
    {
     "data": {
      "text/html": [
       "<div>\n",
       "<style>\n",
       "    .dataframe thead tr:only-child th {\n",
       "        text-align: right;\n",
       "    }\n",
       "\n",
       "    .dataframe thead th {\n",
       "        text-align: left;\n",
       "    }\n",
       "\n",
       "    .dataframe tbody tr th {\n",
       "        vertical-align: top;\n",
       "    }\n",
       "</style>\n",
       "<table border=\"1\" class=\"dataframe\">\n",
       "  <thead>\n",
       "    <tr style=\"text-align: right;\">\n",
       "      <th></th>\n",
       "      <th>popularity</th>\n",
       "      <th>budget</th>\n",
       "      <th>revenue</th>\n",
       "      <th>cast</th>\n",
       "      <th>director</th>\n",
       "      <th>runtime</th>\n",
       "      <th>genres</th>\n",
       "      <th>release_date</th>\n",
       "      <th>vote_count</th>\n",
       "      <th>vote_average</th>\n",
       "      <th>release_year</th>\n",
       "      <th>budget_adj</th>\n",
       "      <th>revenue_adj</th>\n",
       "    </tr>\n",
       "  </thead>\n",
       "  <tbody>\n",
       "    <tr>\n",
       "      <th>10152</th>\n",
       "      <td>0.333643</td>\n",
       "      <td>0</td>\n",
       "      <td>0</td>\n",
       "      <td>Peter Cushing|Martita Hunt|Yvonne Monlaur|Fred...</td>\n",
       "      <td>Terence Fisher</td>\n",
       "      <td>85</td>\n",
       "      <td>Horror</td>\n",
       "      <td>1960-01-02</td>\n",
       "      <td>19</td>\n",
       "      <td>6.6</td>\n",
       "      <td>1960</td>\n",
       "      <td>0.0</td>\n",
       "      <td>0.0</td>\n",
       "    </tr>\n",
       "    <tr>\n",
       "      <th>10150</th>\n",
       "      <td>0.421043</td>\n",
       "      <td>0</td>\n",
       "      <td>0</td>\n",
       "      <td>Burt Lancaster|Audrey Hepburn|Audie Murphy|Joh...</td>\n",
       "      <td>John Huston</td>\n",
       "      <td>125</td>\n",
       "      <td>Action|Drama|Western</td>\n",
       "      <td>1960-01-02</td>\n",
       "      <td>17</td>\n",
       "      <td>4.9</td>\n",
       "      <td>1960</td>\n",
       "      <td>0.0</td>\n",
       "      <td>0.0</td>\n",
       "    </tr>\n",
       "    <tr>\n",
       "      <th>10162</th>\n",
       "      <td>0.194948</td>\n",
       "      <td>0</td>\n",
       "      <td>0</td>\n",
       "      <td>Kenneth More|Dana Wynter|Carl MÃ¶hner|Laurence...</td>\n",
       "      <td>Lewis Gilbert</td>\n",
       "      <td>97</td>\n",
       "      <td>Action|Drama|Foreign|History|War</td>\n",
       "      <td>1960-02-12</td>\n",
       "      <td>12</td>\n",
       "      <td>4.9</td>\n",
       "      <td>1960</td>\n",
       "      <td>0.0</td>\n",
       "      <td>0.0</td>\n",
       "    </tr>\n",
       "  </tbody>\n",
       "</table>\n",
       "</div>"
      ],
      "text/plain": [
       "       popularity  budget  revenue  \\\n",
       "10152    0.333643       0        0   \n",
       "10150    0.421043       0        0   \n",
       "10162    0.194948       0        0   \n",
       "\n",
       "                                                    cast        director  \\\n",
       "10152  Peter Cushing|Martita Hunt|Yvonne Monlaur|Fred...  Terence Fisher   \n",
       "10150  Burt Lancaster|Audrey Hepburn|Audie Murphy|Joh...     John Huston   \n",
       "10162  Kenneth More|Dana Wynter|Carl MÃ¶hner|Laurence...   Lewis Gilbert   \n",
       "\n",
       "       runtime                            genres release_date  vote_count  \\\n",
       "10152       85                            Horror   1960-01-02          19   \n",
       "10150      125              Action|Drama|Western   1960-01-02          17   \n",
       "10162       97  Action|Drama|Foreign|History|War   1960-02-12          12   \n",
       "\n",
       "       vote_average  release_year  budget_adj  revenue_adj  \n",
       "10152           6.6          1960         0.0          0.0  \n",
       "10150           4.9          1960         0.0          0.0  \n",
       "10162           4.9          1960         0.0          0.0  "
      ]
     },
     "execution_count": 327,
     "metadata": {},
     "output_type": "execute_result"
    }
   ],
   "source": [
    "df.sort_values(by = ['release_date'], inplace = True)\n",
    "df.head(3)"
   ]
  },
  {
   "cell_type": "markdown",
   "metadata": {},
   "source": [
    "There are too many columns to deal with. We want to know which genres popular in this time period 1960-2015.<br>For this part of EDA(question 1), I will remove columns that I am not interested in using."
   ]
  },
  {
   "cell_type": "code",
   "execution_count": 328,
   "metadata": {},
   "outputs": [
    {
     "data": {
      "text/plain": [
       "Index(['popularity', 'budget', 'revenue', 'cast', 'director', 'runtime',\n",
       "       'genres', 'release_date', 'vote_count', 'vote_average', 'release_year',\n",
       "       'budget_adj', 'revenue_adj'],\n",
       "      dtype='object')"
      ]
     },
     "execution_count": 328,
     "metadata": {},
     "output_type": "execute_result"
    }
   ],
   "source": [
    "df.columns"
   ]
  },
  {
   "cell_type": "code",
   "execution_count": 329,
   "metadata": {},
   "outputs": [
    {
     "data": {
      "text/html": [
       "<div>\n",
       "<style>\n",
       "    .dataframe thead tr:only-child th {\n",
       "        text-align: right;\n",
       "    }\n",
       "\n",
       "    .dataframe thead th {\n",
       "        text-align: left;\n",
       "    }\n",
       "\n",
       "    .dataframe tbody tr th {\n",
       "        vertical-align: top;\n",
       "    }\n",
       "</style>\n",
       "<table border=\"1\" class=\"dataframe\">\n",
       "  <thead>\n",
       "    <tr style=\"text-align: right;\">\n",
       "      <th></th>\n",
       "      <th>genres</th>\n",
       "      <th>release_date</th>\n",
       "      <th>release_year</th>\n",
       "    </tr>\n",
       "  </thead>\n",
       "  <tbody>\n",
       "    <tr>\n",
       "      <th>10152</th>\n",
       "      <td>Horror</td>\n",
       "      <td>1960-01-02</td>\n",
       "      <td>1960</td>\n",
       "    </tr>\n",
       "    <tr>\n",
       "      <th>10150</th>\n",
       "      <td>Action|Drama|Western</td>\n",
       "      <td>1960-01-02</td>\n",
       "      <td>1960</td>\n",
       "    </tr>\n",
       "    <tr>\n",
       "      <th>10162</th>\n",
       "      <td>Action|Drama|Foreign|History|War</td>\n",
       "      <td>1960-02-12</td>\n",
       "      <td>1960</td>\n",
       "    </tr>\n",
       "  </tbody>\n",
       "</table>\n",
       "</div>"
      ],
      "text/plain": [
       "                                 genres release_date  release_year\n",
       "10152                            Horror   1960-01-02          1960\n",
       "10150              Action|Drama|Western   1960-01-02          1960\n",
       "10162  Action|Drama|Foreign|History|War   1960-02-12          1960"
      ]
     },
     "execution_count": 329,
     "metadata": {},
     "output_type": "execute_result"
    }
   ],
   "source": [
    "df_r1 = df.drop(['popularity', 'budget', 'revenue', 'cast', 'director', 'runtime', 'vote_count', 'vote_average', 'budget_adj', 'revenue_adj'], axis = 1)\n",
    "df_r1.head(3)"
   ]
  },
  {
   "cell_type": "markdown",
   "metadata": {},
   "source": [
    "You might be thinking why I removed `popularity` and `budget`-`revenue` columns, specifically `popularity`.That's because they are properties of each movie, not each genre. We cannot infer the popularity of a genre by popularity of the movie in which it is there. That's because every movie is a mix of different type of genres and there is not a correct way to distribute the popularity of a movie among its constitute genres.\n",
    "\n",
    "Since we are analysing genres trends from **year to year**, we can further remove `release_date` column particularly for this **research question** because we have `release_year` column for that.\n",
    "\n",
    "Removing `release_date` column:"
   ]
  },
  {
   "cell_type": "code",
   "execution_count": 330,
   "metadata": {},
   "outputs": [
    {
     "data": {
      "text/html": [
       "<div>\n",
       "<style>\n",
       "    .dataframe thead tr:only-child th {\n",
       "        text-align: right;\n",
       "    }\n",
       "\n",
       "    .dataframe thead th {\n",
       "        text-align: left;\n",
       "    }\n",
       "\n",
       "    .dataframe tbody tr th {\n",
       "        vertical-align: top;\n",
       "    }\n",
       "</style>\n",
       "<table border=\"1\" class=\"dataframe\">\n",
       "  <thead>\n",
       "    <tr style=\"text-align: right;\">\n",
       "      <th></th>\n",
       "      <th>genres</th>\n",
       "      <th>release_year</th>\n",
       "    </tr>\n",
       "  </thead>\n",
       "  <tbody>\n",
       "    <tr>\n",
       "      <th>10152</th>\n",
       "      <td>Horror</td>\n",
       "      <td>1960</td>\n",
       "    </tr>\n",
       "    <tr>\n",
       "      <th>10150</th>\n",
       "      <td>Action|Drama|Western</td>\n",
       "      <td>1960</td>\n",
       "    </tr>\n",
       "    <tr>\n",
       "      <th>10162</th>\n",
       "      <td>Action|Drama|Foreign|History|War</td>\n",
       "      <td>1960</td>\n",
       "    </tr>\n",
       "  </tbody>\n",
       "</table>\n",
       "</div>"
      ],
      "text/plain": [
       "                                 genres  release_year\n",
       "10152                            Horror          1960\n",
       "10150              Action|Drama|Western          1960\n",
       "10162  Action|Drama|Foreign|History|War          1960"
      ]
     },
     "execution_count": 330,
     "metadata": {},
     "output_type": "execute_result"
    }
   ],
   "source": [
    "df_r1.drop(['release_date'], axis = 1, inplace = True)\n",
    "df_r1.head(3)"
   ]
  },
  {
   "cell_type": "markdown",
   "metadata": {},
   "source": [
    "We can see that `Action` and `Drama` are repeated above.<br>This means each movie contains genres separated by pipe operator \"|\".<br>Let's look at of `genres` column:"
   ]
  },
  {
   "cell_type": "code",
   "execution_count": 331,
   "metadata": {
    "scrolled": true
   },
   "outputs": [
    {
     "data": {
      "text/plain": [
       "10152                                               Horror\n",
       "10150                                 Action|Drama|Western\n",
       "10162                     Action|Drama|Foreign|History|War\n",
       "10166                                               Comedy\n",
       "10156                                       Action|Western\n",
       "10172                             Action|Drama|History|War\n",
       "10147                                      Horror|Thriller\n",
       "10155                                        Crime|Western\n",
       "10158                                         Drama|Family\n",
       "10144                                 Comedy|Drama|Romance\n",
       "10165                                                Drama\n",
       "10153                                      Horror|Thriller\n",
       "10163                                        Drama|History\n",
       "10167                               Horror|Science Fiction\n",
       "10164                    Adventure|Fantasy|Science Fiction\n",
       "10168                                        Comedy|Family\n",
       "10169                                               Horror\n",
       "10149                          Thriller|Music|Comedy|Crime\n",
       "10141                                Drama|Horror|Thriller\n",
       "10146    Thriller|Adventure|Fantasy|Science Fiction|Rom...\n",
       "10154                                                Drama\n",
       "10171                                               Horror\n",
       "10160                                               Comedy\n",
       "10143                                 Action|Drama|History\n",
       "10145                                       Comedy|Romance\n",
       "10159                                             Thriller\n",
       "10142                             Action|Adventure|Western\n",
       "10161               Action|Adventure|Drama|History|Western\n",
       "10170                                       Comedy|Romance\n",
       "10157                         Action|Drama|Romance|Western\n",
       "                               ...                        \n",
       "267                               Music|Drama|Crime|Comedy\n",
       "293                                                  Drama\n",
       "528                                       Romance|TV Movie\n",
       "364                                  Drama|History|Romance\n",
       "165                                         Comedy|Western\n",
       "462                                                 Comedy\n",
       "24                                            Comedy|Drama\n",
       "479                          Action|Comedy|Science Fiction\n",
       "431                                           Crime|Action\n",
       "559                Thriller|TV Movie|Science Fiction|Drama\n",
       "3                 Action|Adventure|Science Fiction|Fantasy\n",
       "95                       Adventure|Animation|Comedy|Family\n",
       "173                                        Action|Thriller\n",
       "117                                                 Comedy\n",
       "92                                Fantasy|Action|Adventure\n",
       "450                          Romance|Music|TV Movie|Comedy\n",
       "455                                      Documentary|Music\n",
       "290                                            Documentary\n",
       "515                 Drama|History|Thriller|Science Fiction\n",
       "53                                            Comedy|Drama\n",
       "143                                 Adventure|Drama|Family\n",
       "91                                                  Comedy\n",
       "5                         Western|Drama|Adventure|Thriller\n",
       "553                           Drama|Science Fiction|Comedy\n",
       "15                             Crime|Drama|Mystery|Western\n",
       "540                                          Mystery|Drama\n",
       "569                                           Drama|Horror\n",
       "144                         Animation|Comedy|Drama|Romance\n",
       "190                      Animation|Comedy|Family|Adventure\n",
       "322                                  Drama|Horror|Thriller\n",
       "Name: genres, Length: 10731, dtype: object"
      ]
     },
     "execution_count": 331,
     "metadata": {},
     "output_type": "execute_result"
    }
   ],
   "source": [
    "df_r1['genres']"
   ]
  },
  {
   "cell_type": "markdown",
   "metadata": {},
   "source": [
    "Many entries in this column contain \"|\" as separator.<br>Let's see how many unique genres appeared from 1960-2015.\n",
    "\n",
    "<a id='function'></a>\n",
    "Creating a list of unique genres from 1960-2015:"
   ]
  },
  {
   "cell_type": "code",
   "execution_count": 332,
   "metadata": {},
   "outputs": [],
   "source": [
    "def unique(col):\n",
    "    \"\"\"\n",
    "    Takes input as a dataframe column and output a list containing\n",
    "    unique values from that column.\n",
    "    \"\"\"\n",
    "    \n",
    "    # pandas series to list\n",
    "    entries = list(col)\n",
    "    \n",
    "    # handling \"|\" separator and removing duplicates\n",
    "    collect = [] #this will contain all the unique genres\n",
    "    \n",
    "    for entry in entries:\n",
    "        for _ in entry.split(\"|\"):\n",
    "            if _ not in collect:\n",
    "                collect.append(_)\n",
    "    return(collect)"
   ]
  },
  {
   "cell_type": "code",
   "execution_count": 333,
   "metadata": {
    "scrolled": true
   },
   "outputs": [
    {
     "data": {
      "text/plain": [
       "['Horror',\n",
       " 'Action',\n",
       " 'Drama',\n",
       " 'Western',\n",
       " 'Foreign',\n",
       " 'History',\n",
       " 'War',\n",
       " 'Comedy',\n",
       " 'Thriller',\n",
       " 'Crime',\n",
       " 'Family',\n",
       " 'Romance',\n",
       " 'Science Fiction',\n",
       " 'Adventure',\n",
       " 'Fantasy',\n",
       " 'Music',\n",
       " 'Mystery',\n",
       " 'Animation',\n",
       " 'TV Movie',\n",
       " 'Documentary']"
      ]
     },
     "execution_count": 333,
     "metadata": {},
     "output_type": "execute_result"
    }
   ],
   "source": [
    "unique(df_r1['genres'])"
   ]
  },
  {
   "cell_type": "code",
   "execution_count": 334,
   "metadata": {},
   "outputs": [
    {
     "data": {
      "text/plain": [
       "(20, 10731)"
      ]
     },
     "execution_count": 334,
     "metadata": {},
     "output_type": "execute_result"
    }
   ],
   "source": [
    "len(unique(df_r1['genres'])), df_r1.shape[0]"
   ]
  },
  {
   "cell_type": "markdown",
   "metadata": {},
   "source": [
    "The o/p in above text cell shows that all the entries in `df_r1['genres']` has 10731 entries which are different combinations of elements from `unique(df_r1['genres'])`. Now let's calculate occurrence of each genre for corresponding year."
   ]
  },
  {
   "cell_type": "markdown",
   "metadata": {},
   "source": [
    "Creating a list of all the years:"
   ]
  },
  {
   "cell_type": "code",
   "execution_count": 335,
   "metadata": {},
   "outputs": [],
   "source": [
    "year = df_r1['release_year'].unique()"
   ]
  },
  {
   "cell_type": "code",
   "execution_count": 336,
   "metadata": {},
   "outputs": [
    {
     "data": {
      "text/plain": [
       "array([1960, 1961, 1962, 1963, 1964, 1965, 1966, 1967, 1968, 1969, 1970,\n",
       "       1971, 1972, 1973, 1974, 1975, 1976, 1977, 1978, 1979, 1980, 1981,\n",
       "       1982, 1983, 1984, 1985, 1986, 1987, 1988, 1989, 1990, 1991, 1992,\n",
       "       1993, 1994, 1995, 1996, 1997, 1998, 1999, 2000, 2001, 2002, 2003,\n",
       "       2004, 2005, 2006, 2007, 2008, 2009, 2010, 2011, 2012, 2013, 2014,\n",
       "       2015])"
      ]
     },
     "execution_count": 336,
     "metadata": {},
     "output_type": "execute_result"
    }
   ],
   "source": [
    "year"
   ]
  },
  {
   "cell_type": "markdown",
   "metadata": {},
   "source": [
    "Now I am creating a new data frame which will contain occurrences of each genre year by year.\n",
    "\n",
    "I will start by creating an empty *dictionary* `new_df`."
   ]
  },
  {
   "cell_type": "code",
   "execution_count": 337,
   "metadata": {},
   "outputs": [
    {
     "data": {
      "text/plain": [
       "{'Action': [],\n",
       " 'Adventure': [],\n",
       " 'Animation': [],\n",
       " 'Comedy': [],\n",
       " 'Crime': [],\n",
       " 'Documentary': [],\n",
       " 'Drama': [],\n",
       " 'Family': [],\n",
       " 'Fantasy': [],\n",
       " 'Foreign': [],\n",
       " 'History': [],\n",
       " 'Horror': [],\n",
       " 'Music': [],\n",
       " 'Mystery': [],\n",
       " 'Romance': [],\n",
       " 'Science Fiction': [],\n",
       " 'TV Movie': [],\n",
       " 'Thriller': [],\n",
       " 'War': [],\n",
       " 'Western': []}"
      ]
     },
     "execution_count": 337,
     "metadata": {},
     "output_type": "execute_result"
    }
   ],
   "source": [
    "new_df = {key:[] for key in unique(df_r1['genres'])}\n",
    "new_df"
   ]
  },
  {
   "cell_type": "code",
   "execution_count": 338,
   "metadata": {},
   "outputs": [
    {
     "data": {
      "text/plain": [
       "{'Action': [],\n",
       " 'Adventure': [],\n",
       " 'Animation': [],\n",
       " 'Comedy': [],\n",
       " 'Crime': [],\n",
       " 'Documentary': [],\n",
       " 'Drama': [],\n",
       " 'Family': [],\n",
       " 'Fantasy': [],\n",
       " 'Foreign': [],\n",
       " 'History': [],\n",
       " 'Horror': [],\n",
       " 'Music': [],\n",
       " 'Mystery': [],\n",
       " 'Romance': [],\n",
       " 'Science Fiction': [],\n",
       " 'TV Movie': [],\n",
       " 'Thriller': [],\n",
       " 'War': [],\n",
       " 'Western': [],\n",
       " 'year': array([1960, 1961, 1962, 1963, 1964, 1965, 1966, 1967, 1968, 1969, 1970,\n",
       "        1971, 1972, 1973, 1974, 1975, 1976, 1977, 1978, 1979, 1980, 1981,\n",
       "        1982, 1983, 1984, 1985, 1986, 1987, 1988, 1989, 1990, 1991, 1992,\n",
       "        1993, 1994, 1995, 1996, 1997, 1998, 1999, 2000, 2001, 2002, 2003,\n",
       "        2004, 2005, 2006, 2007, 2008, 2009, 2010, 2011, 2012, 2013, 2014,\n",
       "        2015])}"
      ]
     },
     "execution_count": 338,
     "metadata": {},
     "output_type": "execute_result"
    }
   ],
   "source": [
    "new_df['year'] = year\n",
    "new_df"
   ]
  },
  {
   "cell_type": "code",
   "execution_count": 339,
   "metadata": {},
   "outputs": [],
   "source": [
    "for y in year: # to get genre count for each year\n",
    "    \n",
    "    #subsetting for corresponding year\n",
    "    y_df_r1 = df_r1[df_r1['release_year'] == y]\n",
    "    \n",
    "    # converting pandas series to column\n",
    "    genres_i1 = list(y_df_r1['genres'])  \n",
    "    genres_f1 = [] # this will contain all the genres that we see for a given year(with repetition and \"|\" separator)\n",
    "    \n",
    "    for genre in genres_i1: # for splitting every entry in y_df[genres] with separator as \"|\" \n",
    "        for i in genre.split(\"|\"):\n",
    "            genres_f1.append(i)\n",
    "\n",
    "    new_list = Counter(genres_f1) # occurrence of each genre in a year\n",
    "    for genre in unique(df_r1['genres']): #this will create occurrence of each genre in a year\n",
    "        if genre not in genres_f1:\n",
    "            new_df[genre].append(0)\n",
    "        else:\n",
    "            new_df[genre].append(new_list[genre])"
   ]
  },
  {
   "cell_type": "markdown",
   "metadata": {},
   "source": [
    "Now converting this dictionary to data frame:"
   ]
  },
  {
   "cell_type": "code",
   "execution_count": 340,
   "metadata": {},
   "outputs": [],
   "source": [
    "new_df = pd.DataFrame(new_df, index = new_df['year'])"
   ]
  },
  {
   "cell_type": "code",
   "execution_count": 341,
   "metadata": {},
   "outputs": [
    {
     "data": {
      "text/html": [
       "<div>\n",
       "<style>\n",
       "    .dataframe thead tr:only-child th {\n",
       "        text-align: right;\n",
       "    }\n",
       "\n",
       "    .dataframe thead th {\n",
       "        text-align: left;\n",
       "    }\n",
       "\n",
       "    .dataframe tbody tr th {\n",
       "        vertical-align: top;\n",
       "    }\n",
       "</style>\n",
       "<table border=\"1\" class=\"dataframe\">\n",
       "  <thead>\n",
       "    <tr style=\"text-align: right;\">\n",
       "      <th></th>\n",
       "      <th>Action</th>\n",
       "      <th>Adventure</th>\n",
       "      <th>Animation</th>\n",
       "      <th>Comedy</th>\n",
       "      <th>Crime</th>\n",
       "      <th>Documentary</th>\n",
       "      <th>Drama</th>\n",
       "      <th>Family</th>\n",
       "      <th>Fantasy</th>\n",
       "      <th>Foreign</th>\n",
       "      <th>...</th>\n",
       "      <th>Horror</th>\n",
       "      <th>Music</th>\n",
       "      <th>Mystery</th>\n",
       "      <th>Romance</th>\n",
       "      <th>Science Fiction</th>\n",
       "      <th>TV Movie</th>\n",
       "      <th>Thriller</th>\n",
       "      <th>War</th>\n",
       "      <th>Western</th>\n",
       "      <th>year</th>\n",
       "    </tr>\n",
       "  </thead>\n",
       "  <tbody>\n",
       "    <tr>\n",
       "      <th>1960</th>\n",
       "      <td>8</td>\n",
       "      <td>5</td>\n",
       "      <td>0</td>\n",
       "      <td>8</td>\n",
       "      <td>2</td>\n",
       "      <td>0</td>\n",
       "      <td>13</td>\n",
       "      <td>3</td>\n",
       "      <td>2</td>\n",
       "      <td>1</td>\n",
       "      <td>...</td>\n",
       "      <td>7</td>\n",
       "      <td>1</td>\n",
       "      <td>0</td>\n",
       "      <td>6</td>\n",
       "      <td>3</td>\n",
       "      <td>0</td>\n",
       "      <td>6</td>\n",
       "      <td>2</td>\n",
       "      <td>6</td>\n",
       "      <td>1960</td>\n",
       "    </tr>\n",
       "    <tr>\n",
       "      <th>1961</th>\n",
       "      <td>7</td>\n",
       "      <td>6</td>\n",
       "      <td>1</td>\n",
       "      <td>10</td>\n",
       "      <td>2</td>\n",
       "      <td>0</td>\n",
       "      <td>16</td>\n",
       "      <td>5</td>\n",
       "      <td>2</td>\n",
       "      <td>1</td>\n",
       "      <td>...</td>\n",
       "      <td>3</td>\n",
       "      <td>2</td>\n",
       "      <td>1</td>\n",
       "      <td>7</td>\n",
       "      <td>4</td>\n",
       "      <td>0</td>\n",
       "      <td>0</td>\n",
       "      <td>2</td>\n",
       "      <td>3</td>\n",
       "      <td>1961</td>\n",
       "    </tr>\n",
       "    <tr>\n",
       "      <th>1962</th>\n",
       "      <td>8</td>\n",
       "      <td>7</td>\n",
       "      <td>0</td>\n",
       "      <td>5</td>\n",
       "      <td>3</td>\n",
       "      <td>0</td>\n",
       "      <td>21</td>\n",
       "      <td>2</td>\n",
       "      <td>1</td>\n",
       "      <td>1</td>\n",
       "      <td>...</td>\n",
       "      <td>5</td>\n",
       "      <td>1</td>\n",
       "      <td>4</td>\n",
       "      <td>5</td>\n",
       "      <td>2</td>\n",
       "      <td>0</td>\n",
       "      <td>7</td>\n",
       "      <td>3</td>\n",
       "      <td>3</td>\n",
       "      <td>1962</td>\n",
       "    </tr>\n",
       "    <tr>\n",
       "      <th>1963</th>\n",
       "      <td>4</td>\n",
       "      <td>7</td>\n",
       "      <td>1</td>\n",
       "      <td>13</td>\n",
       "      <td>4</td>\n",
       "      <td>0</td>\n",
       "      <td>13</td>\n",
       "      <td>3</td>\n",
       "      <td>2</td>\n",
       "      <td>2</td>\n",
       "      <td>...</td>\n",
       "      <td>9</td>\n",
       "      <td>0</td>\n",
       "      <td>6</td>\n",
       "      <td>8</td>\n",
       "      <td>2</td>\n",
       "      <td>0</td>\n",
       "      <td>10</td>\n",
       "      <td>1</td>\n",
       "      <td>2</td>\n",
       "      <td>1963</td>\n",
       "    </tr>\n",
       "    <tr>\n",
       "      <th>1964</th>\n",
       "      <td>5</td>\n",
       "      <td>5</td>\n",
       "      <td>2</td>\n",
       "      <td>16</td>\n",
       "      <td>10</td>\n",
       "      <td>0</td>\n",
       "      <td>20</td>\n",
       "      <td>4</td>\n",
       "      <td>4</td>\n",
       "      <td>1</td>\n",
       "      <td>...</td>\n",
       "      <td>6</td>\n",
       "      <td>5</td>\n",
       "      <td>4</td>\n",
       "      <td>9</td>\n",
       "      <td>4</td>\n",
       "      <td>0</td>\n",
       "      <td>9</td>\n",
       "      <td>3</td>\n",
       "      <td>1</td>\n",
       "      <td>1964</td>\n",
       "    </tr>\n",
       "  </tbody>\n",
       "</table>\n",
       "<p>5 rows × 21 columns</p>\n",
       "</div>"
      ],
      "text/plain": [
       "      Action  Adventure  Animation  Comedy  Crime  Documentary  Drama  Family  \\\n",
       "1960       8          5          0       8      2            0     13       3   \n",
       "1961       7          6          1      10      2            0     16       5   \n",
       "1962       8          7          0       5      3            0     21       2   \n",
       "1963       4          7          1      13      4            0     13       3   \n",
       "1964       5          5          2      16     10            0     20       4   \n",
       "\n",
       "      Fantasy  Foreign  ...   Horror  Music  Mystery  Romance  \\\n",
       "1960        2        1  ...        7      1        0        6   \n",
       "1961        2        1  ...        3      2        1        7   \n",
       "1962        1        1  ...        5      1        4        5   \n",
       "1963        2        2  ...        9      0        6        8   \n",
       "1964        4        1  ...        6      5        4        9   \n",
       "\n",
       "      Science Fiction  TV Movie  Thriller  War  Western  year  \n",
       "1960                3         0         6    2        6  1960  \n",
       "1961                4         0         0    2        3  1961  \n",
       "1962                2         0         7    3        3  1962  \n",
       "1963                2         0        10    1        2  1963  \n",
       "1964                4         0         9    3        1  1964  \n",
       "\n",
       "[5 rows x 21 columns]"
      ]
     },
     "execution_count": 341,
     "metadata": {},
     "output_type": "execute_result"
    }
   ],
   "source": [
    "new_df.head()"
   ]
  },
  {
   "cell_type": "code",
   "execution_count": 342,
   "metadata": {},
   "outputs": [
    {
     "data": {
      "text/plain": [
       "Index(['Action', 'Adventure', 'Animation', 'Comedy', 'Crime', 'Documentary',\n",
       "       'Drama', 'Family', 'Fantasy', 'Foreign', 'History', 'Horror', 'Music',\n",
       "       'Mystery', 'Romance', 'Science Fiction', 'TV Movie', 'Thriller', 'War',\n",
       "       'Western', 'year'],\n",
       "      dtype='object')"
      ]
     },
     "execution_count": 342,
     "metadata": {},
     "output_type": "execute_result"
    }
   ],
   "source": [
    "new_df.columns"
   ]
  },
  {
   "cell_type": "markdown",
   "metadata": {},
   "source": [
    "We already have row index as year.\n",
    "Removing year column:"
   ]
  },
  {
   "cell_type": "code",
   "execution_count": 343,
   "metadata": {},
   "outputs": [],
   "source": [
    "del(new_df['year'])"
   ]
  },
  {
   "cell_type": "code",
   "execution_count": 344,
   "metadata": {},
   "outputs": [
    {
     "data": {
      "text/plain": [
       "Index(['Action', 'Adventure', 'Animation', 'Comedy', 'Crime', 'Documentary',\n",
       "       'Drama', 'Family', 'Fantasy', 'Foreign', 'History', 'Horror', 'Music',\n",
       "       'Mystery', 'Romance', 'Science Fiction', 'TV Movie', 'Thriller', 'War',\n",
       "       'Western'],\n",
       "      dtype='object')"
      ]
     },
     "execution_count": 344,
     "metadata": {},
     "output_type": "execute_result"
    }
   ],
   "source": [
    "new_df.columns"
   ]
  },
  {
   "cell_type": "code",
   "execution_count": 345,
   "metadata": {},
   "outputs": [
    {
     "data": {
      "text/plain": [
       "(56, 20)"
      ]
     },
     "execution_count": 345,
     "metadata": {},
     "output_type": "execute_result"
    }
   ],
   "source": [
    "new_df.shape"
   ]
  },
  {
   "cell_type": "code",
   "execution_count": 346,
   "metadata": {
    "scrolled": true
   },
   "outputs": [
    {
     "data": {
      "text/html": [
       "<div>\n",
       "<style>\n",
       "    .dataframe thead tr:only-child th {\n",
       "        text-align: right;\n",
       "    }\n",
       "\n",
       "    .dataframe thead th {\n",
       "        text-align: left;\n",
       "    }\n",
       "\n",
       "    .dataframe tbody tr th {\n",
       "        vertical-align: top;\n",
       "    }\n",
       "</style>\n",
       "<table border=\"1\" class=\"dataframe\">\n",
       "  <thead>\n",
       "    <tr style=\"text-align: right;\">\n",
       "      <th></th>\n",
       "      <th>Action</th>\n",
       "      <th>Adventure</th>\n",
       "      <th>Animation</th>\n",
       "      <th>Comedy</th>\n",
       "      <th>Crime</th>\n",
       "      <th>Documentary</th>\n",
       "      <th>Drama</th>\n",
       "      <th>Family</th>\n",
       "      <th>Fantasy</th>\n",
       "      <th>Foreign</th>\n",
       "      <th>History</th>\n",
       "      <th>Horror</th>\n",
       "      <th>Music</th>\n",
       "      <th>Mystery</th>\n",
       "      <th>Romance</th>\n",
       "      <th>Science Fiction</th>\n",
       "      <th>TV Movie</th>\n",
       "      <th>Thriller</th>\n",
       "      <th>War</th>\n",
       "      <th>Western</th>\n",
       "    </tr>\n",
       "  </thead>\n",
       "  <tbody>\n",
       "    <tr>\n",
       "      <th>1960</th>\n",
       "      <td>8</td>\n",
       "      <td>5</td>\n",
       "      <td>0</td>\n",
       "      <td>8</td>\n",
       "      <td>2</td>\n",
       "      <td>0</td>\n",
       "      <td>13</td>\n",
       "      <td>3</td>\n",
       "      <td>2</td>\n",
       "      <td>1</td>\n",
       "      <td>5</td>\n",
       "      <td>7</td>\n",
       "      <td>1</td>\n",
       "      <td>0</td>\n",
       "      <td>6</td>\n",
       "      <td>3</td>\n",
       "      <td>0</td>\n",
       "      <td>6</td>\n",
       "      <td>2</td>\n",
       "      <td>6</td>\n",
       "    </tr>\n",
       "    <tr>\n",
       "      <th>1961</th>\n",
       "      <td>7</td>\n",
       "      <td>6</td>\n",
       "      <td>1</td>\n",
       "      <td>10</td>\n",
       "      <td>2</td>\n",
       "      <td>0</td>\n",
       "      <td>16</td>\n",
       "      <td>5</td>\n",
       "      <td>2</td>\n",
       "      <td>1</td>\n",
       "      <td>3</td>\n",
       "      <td>3</td>\n",
       "      <td>2</td>\n",
       "      <td>1</td>\n",
       "      <td>7</td>\n",
       "      <td>4</td>\n",
       "      <td>0</td>\n",
       "      <td>0</td>\n",
       "      <td>2</td>\n",
       "      <td>3</td>\n",
       "    </tr>\n",
       "    <tr>\n",
       "      <th>1962</th>\n",
       "      <td>8</td>\n",
       "      <td>7</td>\n",
       "      <td>0</td>\n",
       "      <td>5</td>\n",
       "      <td>3</td>\n",
       "      <td>0</td>\n",
       "      <td>21</td>\n",
       "      <td>2</td>\n",
       "      <td>1</td>\n",
       "      <td>1</td>\n",
       "      <td>4</td>\n",
       "      <td>5</td>\n",
       "      <td>1</td>\n",
       "      <td>4</td>\n",
       "      <td>5</td>\n",
       "      <td>2</td>\n",
       "      <td>0</td>\n",
       "      <td>7</td>\n",
       "      <td>3</td>\n",
       "      <td>3</td>\n",
       "    </tr>\n",
       "    <tr>\n",
       "      <th>1963</th>\n",
       "      <td>4</td>\n",
       "      <td>7</td>\n",
       "      <td>1</td>\n",
       "      <td>13</td>\n",
       "      <td>4</td>\n",
       "      <td>0</td>\n",
       "      <td>13</td>\n",
       "      <td>3</td>\n",
       "      <td>2</td>\n",
       "      <td>2</td>\n",
       "      <td>4</td>\n",
       "      <td>9</td>\n",
       "      <td>0</td>\n",
       "      <td>6</td>\n",
       "      <td>8</td>\n",
       "      <td>2</td>\n",
       "      <td>0</td>\n",
       "      <td>10</td>\n",
       "      <td>1</td>\n",
       "      <td>2</td>\n",
       "    </tr>\n",
       "    <tr>\n",
       "      <th>1964</th>\n",
       "      <td>5</td>\n",
       "      <td>5</td>\n",
       "      <td>2</td>\n",
       "      <td>16</td>\n",
       "      <td>10</td>\n",
       "      <td>0</td>\n",
       "      <td>20</td>\n",
       "      <td>4</td>\n",
       "      <td>4</td>\n",
       "      <td>1</td>\n",
       "      <td>3</td>\n",
       "      <td>6</td>\n",
       "      <td>5</td>\n",
       "      <td>4</td>\n",
       "      <td>9</td>\n",
       "      <td>4</td>\n",
       "      <td>0</td>\n",
       "      <td>9</td>\n",
       "      <td>3</td>\n",
       "      <td>1</td>\n",
       "    </tr>\n",
       "  </tbody>\n",
       "</table>\n",
       "</div>"
      ],
      "text/plain": [
       "      Action  Adventure  Animation  Comedy  Crime  Documentary  Drama  Family  \\\n",
       "1960       8          5          0       8      2            0     13       3   \n",
       "1961       7          6          1      10      2            0     16       5   \n",
       "1962       8          7          0       5      3            0     21       2   \n",
       "1963       4          7          1      13      4            0     13       3   \n",
       "1964       5          5          2      16     10            0     20       4   \n",
       "\n",
       "      Fantasy  Foreign  History  Horror  Music  Mystery  Romance  \\\n",
       "1960        2        1        5       7      1        0        6   \n",
       "1961        2        1        3       3      2        1        7   \n",
       "1962        1        1        4       5      1        4        5   \n",
       "1963        2        2        4       9      0        6        8   \n",
       "1964        4        1        3       6      5        4        9   \n",
       "\n",
       "      Science Fiction  TV Movie  Thriller  War  Western  \n",
       "1960                3         0         6    2        6  \n",
       "1961                4         0         0    2        3  \n",
       "1962                2         0         7    3        3  \n",
       "1963                2         0        10    1        2  \n",
       "1964                4         0         9    3        1  "
      ]
     },
     "execution_count": 346,
     "metadata": {},
     "output_type": "execute_result"
    }
   ],
   "source": [
    "new_df.head()"
   ]
  },
  {
   "cell_type": "markdown",
   "metadata": {},
   "source": [
    "**What this dataframe shows?**\n",
    "\n",
    "Let's see first row. If there are n number of movies released in 1960, then entries corresponding to 1960 shows how many times<br>each genre appeared in 1960.<br>\n",
    "Let's see this numerically:"
   ]
  },
  {
   "cell_type": "code",
   "execution_count": 347,
   "metadata": {},
   "outputs": [
    {
     "data": {
      "text/plain": [
       "78"
      ]
     },
     "execution_count": 347,
     "metadata": {},
     "output_type": "execute_result"
    }
   ],
   "source": [
    "total_occ = new_df.loc[1960].sum()\n",
    "total_occ"
   ]
  },
  {
   "cell_type": "markdown",
   "metadata": {},
   "source": [
    "* Total occurrences off all genres(including repetition) = 78"
   ]
  },
  {
   "cell_type": "code",
   "execution_count": 348,
   "metadata": {},
   "outputs": [
    {
     "data": {
      "text/plain": [
       "8"
      ]
     },
     "execution_count": 348,
     "metadata": {},
     "output_type": "execute_result"
    }
   ],
   "source": [
    "action_occ = new_df.loc[1960,'Action']\n",
    "action_occ"
   ]
  },
  {
   "cell_type": "markdown",
   "metadata": {},
   "source": [
    "`Action` appeared 8 times in 1960."
   ]
  },
  {
   "cell_type": "code",
   "execution_count": 349,
   "metadata": {},
   "outputs": [
    {
     "data": {
      "text/plain": [
       "10.256410256410257"
      ]
     },
     "execution_count": 349,
     "metadata": {},
     "output_type": "execute_result"
    }
   ],
   "source": [
    "action_part = 100*action_occ/total_occ\n",
    "action_part"
   ]
  },
  {
   "cell_type": "markdown",
   "metadata": {},
   "source": [
    "Portion of occurrences showing `Action`: 10.256<br>Similarly calculating proportions for all genres in this `new_df` and creating another data frame `new_df1` for analyzing year by year genre trends."
   ]
  },
  {
   "cell_type": "code",
   "execution_count": 350,
   "metadata": {},
   "outputs": [
    {
     "data": {
      "text/plain": [
       "{'Action': [],\n",
       " 'Adventure': [],\n",
       " 'Animation': [],\n",
       " 'Comedy': [],\n",
       " 'Crime': [],\n",
       " 'Documentary': [],\n",
       " 'Drama': [],\n",
       " 'Family': [],\n",
       " 'Fantasy': [],\n",
       " 'Foreign': [],\n",
       " 'History': [],\n",
       " 'Horror': [],\n",
       " 'Music': [],\n",
       " 'Mystery': [],\n",
       " 'Romance': [],\n",
       " 'Science Fiction': [],\n",
       " 'TV Movie': [],\n",
       " 'Thriller': [],\n",
       " 'War': [],\n",
       " 'Western': []}"
      ]
     },
     "execution_count": 350,
     "metadata": {},
     "output_type": "execute_result"
    }
   ],
   "source": [
    "new_df1 = {key:[] for key in unique(df_r1['genres'])}\n",
    "new_df1"
   ]
  },
  {
   "cell_type": "code",
   "execution_count": 351,
   "metadata": {},
   "outputs": [
    {
     "data": {
      "text/plain": [
       "{'Action': [],\n",
       " 'Adventure': [],\n",
       " 'Animation': [],\n",
       " 'Comedy': [],\n",
       " 'Crime': [],\n",
       " 'Documentary': [],\n",
       " 'Drama': [],\n",
       " 'Family': [],\n",
       " 'Fantasy': [],\n",
       " 'Foreign': [],\n",
       " 'History': [],\n",
       " 'Horror': [],\n",
       " 'Music': [],\n",
       " 'Mystery': [],\n",
       " 'Romance': [],\n",
       " 'Science Fiction': [],\n",
       " 'TV Movie': [],\n",
       " 'Thriller': [],\n",
       " 'War': [],\n",
       " 'Western': [],\n",
       " 'year': array([1960, 1961, 1962, 1963, 1964, 1965, 1966, 1967, 1968, 1969, 1970,\n",
       "        1971, 1972, 1973, 1974, 1975, 1976, 1977, 1978, 1979, 1980, 1981,\n",
       "        1982, 1983, 1984, 1985, 1986, 1987, 1988, 1989, 1990, 1991, 1992,\n",
       "        1993, 1994, 1995, 1996, 1997, 1998, 1999, 2000, 2001, 2002, 2003,\n",
       "        2004, 2005, 2006, 2007, 2008, 2009, 2010, 2011, 2012, 2013, 2014,\n",
       "        2015])}"
      ]
     },
     "execution_count": 351,
     "metadata": {},
     "output_type": "execute_result"
    }
   ],
   "source": [
    "new_df1['year'] = year\n",
    "new_df1"
   ]
  },
  {
   "cell_type": "markdown",
   "metadata": {},
   "source": [
    "Updating `new_df1` with proportion of genre occurrence:"
   ]
  },
  {
   "cell_type": "code",
   "execution_count": 352,
   "metadata": {},
   "outputs": [],
   "source": [
    "for index,row in new_df.iterrows():\n",
    "    for genre in list(new_df.columns):\n",
    "        new_df1[genre].append((100*row[genre]/sum(row)))"
   ]
  },
  {
   "cell_type": "markdown",
   "metadata": {},
   "source": [
    "Converting to data frame:"
   ]
  },
  {
   "cell_type": "code",
   "execution_count": 353,
   "metadata": {},
   "outputs": [
    {
     "data": {
      "text/html": [
       "<div>\n",
       "<style>\n",
       "    .dataframe thead tr:only-child th {\n",
       "        text-align: right;\n",
       "    }\n",
       "\n",
       "    .dataframe thead th {\n",
       "        text-align: left;\n",
       "    }\n",
       "\n",
       "    .dataframe tbody tr th {\n",
       "        vertical-align: top;\n",
       "    }\n",
       "</style>\n",
       "<table border=\"1\" class=\"dataframe\">\n",
       "  <thead>\n",
       "    <tr style=\"text-align: right;\">\n",
       "      <th></th>\n",
       "      <th>Action</th>\n",
       "      <th>Adventure</th>\n",
       "      <th>Animation</th>\n",
       "      <th>Comedy</th>\n",
       "      <th>Crime</th>\n",
       "      <th>Documentary</th>\n",
       "      <th>Drama</th>\n",
       "      <th>Family</th>\n",
       "      <th>Fantasy</th>\n",
       "      <th>Foreign</th>\n",
       "      <th>...</th>\n",
       "      <th>Horror</th>\n",
       "      <th>Music</th>\n",
       "      <th>Mystery</th>\n",
       "      <th>Romance</th>\n",
       "      <th>Science Fiction</th>\n",
       "      <th>TV Movie</th>\n",
       "      <th>Thriller</th>\n",
       "      <th>War</th>\n",
       "      <th>Western</th>\n",
       "      <th>year</th>\n",
       "    </tr>\n",
       "  </thead>\n",
       "  <tbody>\n",
       "    <tr>\n",
       "      <th>0</th>\n",
       "      <td>10.256410</td>\n",
       "      <td>6.410256</td>\n",
       "      <td>0.000000</td>\n",
       "      <td>10.256410</td>\n",
       "      <td>2.564103</td>\n",
       "      <td>0.0</td>\n",
       "      <td>16.666667</td>\n",
       "      <td>3.846154</td>\n",
       "      <td>2.564103</td>\n",
       "      <td>1.282051</td>\n",
       "      <td>...</td>\n",
       "      <td>8.974359</td>\n",
       "      <td>1.282051</td>\n",
       "      <td>0.000000</td>\n",
       "      <td>7.692308</td>\n",
       "      <td>3.846154</td>\n",
       "      <td>0.0</td>\n",
       "      <td>7.692308</td>\n",
       "      <td>2.564103</td>\n",
       "      <td>7.692308</td>\n",
       "      <td>1960</td>\n",
       "    </tr>\n",
       "    <tr>\n",
       "      <th>1</th>\n",
       "      <td>9.333333</td>\n",
       "      <td>8.000000</td>\n",
       "      <td>1.333333</td>\n",
       "      <td>13.333333</td>\n",
       "      <td>2.666667</td>\n",
       "      <td>0.0</td>\n",
       "      <td>21.333333</td>\n",
       "      <td>6.666667</td>\n",
       "      <td>2.666667</td>\n",
       "      <td>1.333333</td>\n",
       "      <td>...</td>\n",
       "      <td>4.000000</td>\n",
       "      <td>2.666667</td>\n",
       "      <td>1.333333</td>\n",
       "      <td>9.333333</td>\n",
       "      <td>5.333333</td>\n",
       "      <td>0.0</td>\n",
       "      <td>0.000000</td>\n",
       "      <td>2.666667</td>\n",
       "      <td>4.000000</td>\n",
       "      <td>1961</td>\n",
       "    </tr>\n",
       "    <tr>\n",
       "      <th>2</th>\n",
       "      <td>9.756098</td>\n",
       "      <td>8.536585</td>\n",
       "      <td>0.000000</td>\n",
       "      <td>6.097561</td>\n",
       "      <td>3.658537</td>\n",
       "      <td>0.0</td>\n",
       "      <td>25.609756</td>\n",
       "      <td>2.439024</td>\n",
       "      <td>1.219512</td>\n",
       "      <td>1.219512</td>\n",
       "      <td>...</td>\n",
       "      <td>6.097561</td>\n",
       "      <td>1.219512</td>\n",
       "      <td>4.878049</td>\n",
       "      <td>6.097561</td>\n",
       "      <td>2.439024</td>\n",
       "      <td>0.0</td>\n",
       "      <td>8.536585</td>\n",
       "      <td>3.658537</td>\n",
       "      <td>3.658537</td>\n",
       "      <td>1962</td>\n",
       "    </tr>\n",
       "    <tr>\n",
       "      <th>3</th>\n",
       "      <td>4.395604</td>\n",
       "      <td>7.692308</td>\n",
       "      <td>1.098901</td>\n",
       "      <td>14.285714</td>\n",
       "      <td>4.395604</td>\n",
       "      <td>0.0</td>\n",
       "      <td>14.285714</td>\n",
       "      <td>3.296703</td>\n",
       "      <td>2.197802</td>\n",
       "      <td>2.197802</td>\n",
       "      <td>...</td>\n",
       "      <td>9.890110</td>\n",
       "      <td>0.000000</td>\n",
       "      <td>6.593407</td>\n",
       "      <td>8.791209</td>\n",
       "      <td>2.197802</td>\n",
       "      <td>0.0</td>\n",
       "      <td>10.989011</td>\n",
       "      <td>1.098901</td>\n",
       "      <td>2.197802</td>\n",
       "      <td>1963</td>\n",
       "    </tr>\n",
       "    <tr>\n",
       "      <th>4</th>\n",
       "      <td>4.504505</td>\n",
       "      <td>4.504505</td>\n",
       "      <td>1.801802</td>\n",
       "      <td>14.414414</td>\n",
       "      <td>9.009009</td>\n",
       "      <td>0.0</td>\n",
       "      <td>18.018018</td>\n",
       "      <td>3.603604</td>\n",
       "      <td>3.603604</td>\n",
       "      <td>0.900901</td>\n",
       "      <td>...</td>\n",
       "      <td>5.405405</td>\n",
       "      <td>4.504505</td>\n",
       "      <td>3.603604</td>\n",
       "      <td>8.108108</td>\n",
       "      <td>3.603604</td>\n",
       "      <td>0.0</td>\n",
       "      <td>8.108108</td>\n",
       "      <td>2.702703</td>\n",
       "      <td>0.900901</td>\n",
       "      <td>1964</td>\n",
       "    </tr>\n",
       "  </tbody>\n",
       "</table>\n",
       "<p>5 rows × 21 columns</p>\n",
       "</div>"
      ],
      "text/plain": [
       "      Action  Adventure  Animation     Comedy     Crime  Documentary  \\\n",
       "0  10.256410   6.410256   0.000000  10.256410  2.564103          0.0   \n",
       "1   9.333333   8.000000   1.333333  13.333333  2.666667          0.0   \n",
       "2   9.756098   8.536585   0.000000   6.097561  3.658537          0.0   \n",
       "3   4.395604   7.692308   1.098901  14.285714  4.395604          0.0   \n",
       "4   4.504505   4.504505   1.801802  14.414414  9.009009          0.0   \n",
       "\n",
       "       Drama    Family   Fantasy   Foreign  ...     Horror     Music  \\\n",
       "0  16.666667  3.846154  2.564103  1.282051  ...   8.974359  1.282051   \n",
       "1  21.333333  6.666667  2.666667  1.333333  ...   4.000000  2.666667   \n",
       "2  25.609756  2.439024  1.219512  1.219512  ...   6.097561  1.219512   \n",
       "3  14.285714  3.296703  2.197802  2.197802  ...   9.890110  0.000000   \n",
       "4  18.018018  3.603604  3.603604  0.900901  ...   5.405405  4.504505   \n",
       "\n",
       "    Mystery   Romance  Science Fiction  TV Movie   Thriller       War  \\\n",
       "0  0.000000  7.692308         3.846154       0.0   7.692308  2.564103   \n",
       "1  1.333333  9.333333         5.333333       0.0   0.000000  2.666667   \n",
       "2  4.878049  6.097561         2.439024       0.0   8.536585  3.658537   \n",
       "3  6.593407  8.791209         2.197802       0.0  10.989011  1.098901   \n",
       "4  3.603604  8.108108         3.603604       0.0   8.108108  2.702703   \n",
       "\n",
       "    Western  year  \n",
       "0  7.692308  1960  \n",
       "1  4.000000  1961  \n",
       "2  3.658537  1962  \n",
       "3  2.197802  1963  \n",
       "4  0.900901  1964  \n",
       "\n",
       "[5 rows x 21 columns]"
      ]
     },
     "execution_count": 353,
     "metadata": {},
     "output_type": "execute_result"
    }
   ],
   "source": [
    "new_df1 = pd.DataFrame(new_df1)\n",
    "new_df1.head(5)"
   ]
  },
  {
   "cell_type": "markdown",
   "metadata": {},
   "source": [
    "Moving `new_df['year']` to first place:"
   ]
  },
  {
   "cell_type": "code",
   "execution_count": 354,
   "metadata": {},
   "outputs": [
    {
     "data": {
      "text/plain": [
       "Index(['year', 'Action', 'Adventure', 'Animation', 'Comedy', 'Crime',\n",
       "       'Documentary', 'Drama', 'Family', 'Fantasy', 'Foreign', 'History',\n",
       "       'Horror', 'Music', 'Mystery', 'Romance', 'Science Fiction', 'TV Movie',\n",
       "       'Thriller', 'War', 'Western'],\n",
       "      dtype='object')"
      ]
     },
     "execution_count": 354,
     "metadata": {},
     "output_type": "execute_result"
    }
   ],
   "source": [
    "cols = new_df1.columns.tolist()\n",
    "cols = cols[-1:] + cols[:-1]\n",
    "new_df1 = new_df1[cols]\n",
    "new_df1.columns"
   ]
  },
  {
   "cell_type": "code",
   "execution_count": 355,
   "metadata": {
    "scrolled": true
   },
   "outputs": [
    {
     "data": {
      "text/html": [
       "<div>\n",
       "<style>\n",
       "    .dataframe thead tr:only-child th {\n",
       "        text-align: right;\n",
       "    }\n",
       "\n",
       "    .dataframe thead th {\n",
       "        text-align: left;\n",
       "    }\n",
       "\n",
       "    .dataframe tbody tr th {\n",
       "        vertical-align: top;\n",
       "    }\n",
       "</style>\n",
       "<table border=\"1\" class=\"dataframe\">\n",
       "  <thead>\n",
       "    <tr style=\"text-align: right;\">\n",
       "      <th></th>\n",
       "      <th>year</th>\n",
       "      <th>Action</th>\n",
       "      <th>Adventure</th>\n",
       "      <th>Animation</th>\n",
       "      <th>Comedy</th>\n",
       "      <th>Crime</th>\n",
       "      <th>Documentary</th>\n",
       "      <th>Drama</th>\n",
       "      <th>Family</th>\n",
       "      <th>Fantasy</th>\n",
       "      <th>...</th>\n",
       "      <th>History</th>\n",
       "      <th>Horror</th>\n",
       "      <th>Music</th>\n",
       "      <th>Mystery</th>\n",
       "      <th>Romance</th>\n",
       "      <th>Science Fiction</th>\n",
       "      <th>TV Movie</th>\n",
       "      <th>Thriller</th>\n",
       "      <th>War</th>\n",
       "      <th>Western</th>\n",
       "    </tr>\n",
       "  </thead>\n",
       "  <tbody>\n",
       "    <tr>\n",
       "      <th>0</th>\n",
       "      <td>1960</td>\n",
       "      <td>10.256410</td>\n",
       "      <td>6.410256</td>\n",
       "      <td>0.000000</td>\n",
       "      <td>10.256410</td>\n",
       "      <td>2.564103</td>\n",
       "      <td>0.0</td>\n",
       "      <td>16.666667</td>\n",
       "      <td>3.846154</td>\n",
       "      <td>2.564103</td>\n",
       "      <td>...</td>\n",
       "      <td>6.410256</td>\n",
       "      <td>8.974359</td>\n",
       "      <td>1.282051</td>\n",
       "      <td>0.000000</td>\n",
       "      <td>7.692308</td>\n",
       "      <td>3.846154</td>\n",
       "      <td>0.0</td>\n",
       "      <td>7.692308</td>\n",
       "      <td>2.564103</td>\n",
       "      <td>7.692308</td>\n",
       "    </tr>\n",
       "    <tr>\n",
       "      <th>1</th>\n",
       "      <td>1961</td>\n",
       "      <td>9.333333</td>\n",
       "      <td>8.000000</td>\n",
       "      <td>1.333333</td>\n",
       "      <td>13.333333</td>\n",
       "      <td>2.666667</td>\n",
       "      <td>0.0</td>\n",
       "      <td>21.333333</td>\n",
       "      <td>6.666667</td>\n",
       "      <td>2.666667</td>\n",
       "      <td>...</td>\n",
       "      <td>4.000000</td>\n",
       "      <td>4.000000</td>\n",
       "      <td>2.666667</td>\n",
       "      <td>1.333333</td>\n",
       "      <td>9.333333</td>\n",
       "      <td>5.333333</td>\n",
       "      <td>0.0</td>\n",
       "      <td>0.000000</td>\n",
       "      <td>2.666667</td>\n",
       "      <td>4.000000</td>\n",
       "    </tr>\n",
       "    <tr>\n",
       "      <th>2</th>\n",
       "      <td>1962</td>\n",
       "      <td>9.756098</td>\n",
       "      <td>8.536585</td>\n",
       "      <td>0.000000</td>\n",
       "      <td>6.097561</td>\n",
       "      <td>3.658537</td>\n",
       "      <td>0.0</td>\n",
       "      <td>25.609756</td>\n",
       "      <td>2.439024</td>\n",
       "      <td>1.219512</td>\n",
       "      <td>...</td>\n",
       "      <td>4.878049</td>\n",
       "      <td>6.097561</td>\n",
       "      <td>1.219512</td>\n",
       "      <td>4.878049</td>\n",
       "      <td>6.097561</td>\n",
       "      <td>2.439024</td>\n",
       "      <td>0.0</td>\n",
       "      <td>8.536585</td>\n",
       "      <td>3.658537</td>\n",
       "      <td>3.658537</td>\n",
       "    </tr>\n",
       "    <tr>\n",
       "      <th>3</th>\n",
       "      <td>1963</td>\n",
       "      <td>4.395604</td>\n",
       "      <td>7.692308</td>\n",
       "      <td>1.098901</td>\n",
       "      <td>14.285714</td>\n",
       "      <td>4.395604</td>\n",
       "      <td>0.0</td>\n",
       "      <td>14.285714</td>\n",
       "      <td>3.296703</td>\n",
       "      <td>2.197802</td>\n",
       "      <td>...</td>\n",
       "      <td>4.395604</td>\n",
       "      <td>9.890110</td>\n",
       "      <td>0.000000</td>\n",
       "      <td>6.593407</td>\n",
       "      <td>8.791209</td>\n",
       "      <td>2.197802</td>\n",
       "      <td>0.0</td>\n",
       "      <td>10.989011</td>\n",
       "      <td>1.098901</td>\n",
       "      <td>2.197802</td>\n",
       "    </tr>\n",
       "    <tr>\n",
       "      <th>4</th>\n",
       "      <td>1964</td>\n",
       "      <td>4.504505</td>\n",
       "      <td>4.504505</td>\n",
       "      <td>1.801802</td>\n",
       "      <td>14.414414</td>\n",
       "      <td>9.009009</td>\n",
       "      <td>0.0</td>\n",
       "      <td>18.018018</td>\n",
       "      <td>3.603604</td>\n",
       "      <td>3.603604</td>\n",
       "      <td>...</td>\n",
       "      <td>2.702703</td>\n",
       "      <td>5.405405</td>\n",
       "      <td>4.504505</td>\n",
       "      <td>3.603604</td>\n",
       "      <td>8.108108</td>\n",
       "      <td>3.603604</td>\n",
       "      <td>0.0</td>\n",
       "      <td>8.108108</td>\n",
       "      <td>2.702703</td>\n",
       "      <td>0.900901</td>\n",
       "    </tr>\n",
       "  </tbody>\n",
       "</table>\n",
       "<p>5 rows × 21 columns</p>\n",
       "</div>"
      ],
      "text/plain": [
       "   year     Action  Adventure  Animation     Comedy     Crime  Documentary  \\\n",
       "0  1960  10.256410   6.410256   0.000000  10.256410  2.564103          0.0   \n",
       "1  1961   9.333333   8.000000   1.333333  13.333333  2.666667          0.0   \n",
       "2  1962   9.756098   8.536585   0.000000   6.097561  3.658537          0.0   \n",
       "3  1963   4.395604   7.692308   1.098901  14.285714  4.395604          0.0   \n",
       "4  1964   4.504505   4.504505   1.801802  14.414414  9.009009          0.0   \n",
       "\n",
       "       Drama    Family   Fantasy    ...      History    Horror     Music  \\\n",
       "0  16.666667  3.846154  2.564103    ...     6.410256  8.974359  1.282051   \n",
       "1  21.333333  6.666667  2.666667    ...     4.000000  4.000000  2.666667   \n",
       "2  25.609756  2.439024  1.219512    ...     4.878049  6.097561  1.219512   \n",
       "3  14.285714  3.296703  2.197802    ...     4.395604  9.890110  0.000000   \n",
       "4  18.018018  3.603604  3.603604    ...     2.702703  5.405405  4.504505   \n",
       "\n",
       "    Mystery   Romance  Science Fiction  TV Movie   Thriller       War  \\\n",
       "0  0.000000  7.692308         3.846154       0.0   7.692308  2.564103   \n",
       "1  1.333333  9.333333         5.333333       0.0   0.000000  2.666667   \n",
       "2  4.878049  6.097561         2.439024       0.0   8.536585  3.658537   \n",
       "3  6.593407  8.791209         2.197802       0.0  10.989011  1.098901   \n",
       "4  3.603604  8.108108         3.603604       0.0   8.108108  2.702703   \n",
       "\n",
       "    Western  \n",
       "0  7.692308  \n",
       "1  4.000000  \n",
       "2  3.658537  \n",
       "3  2.197802  \n",
       "4  0.900901  \n",
       "\n",
       "[5 rows x 21 columns]"
      ]
     },
     "execution_count": 355,
     "metadata": {},
     "output_type": "execute_result"
    }
   ],
   "source": [
    "new_df1.head()"
   ]
  },
  {
   "cell_type": "markdown",
   "metadata": {},
   "source": [
    "Now visualising trends for each genre. I will use the same <a href=\"#function\">function</a> to get a list of unique genres:"
   ]
  },
  {
   "cell_type": "code",
   "execution_count": 356,
   "metadata": {
    "scrolled": true
   },
   "outputs": [
    {
     "data": {
      "image/png": "[encoded data removed]",
      "text/plain": [
       "<matplotlib.figure.Figure at 0x7f19d177bda0>"
      ]
     },
     "metadata": {},
     "output_type": "display_data"
    }
   ],
   "source": [
    "for genre in unique(df['genres']):\n",
    "    plt.scatter(y = new_df1[genre], x = new_df1['year']);\n",
    "    #plt.legend()"
   ]
  },
  {
   "cell_type": "markdown",
   "metadata": {},
   "source": [
    "This graph looks very messy. Let's see the mean value of occurrence for each genre:"
   ]
  },
  {
   "cell_type": "code",
   "execution_count": 357,
   "metadata": {},
   "outputs": [
    {
     "data": {
      "text/plain": [
       "{'Action': 9.1828419473096972,\n",
       " 'Adventure': 5.9779389384966946,\n",
       " 'Animation': 1.8724954892280661,\n",
       " 'Comedy': 13.365996728567213,\n",
       " 'Crime': 5.3555985671491584,\n",
       " 'Documentary': 1.0017009269842234,\n",
       " 'Drama': 17.61906181368045,\n",
       " 'Family': 4.2369321559049373,\n",
       " 'Fantasy': 3.2695122162267043,\n",
       " 'Foreign': 0.6238363396628035,\n",
       " 'History': 1.6829865578705412,\n",
       " 'Horror': 6.1818010746638166,\n",
       " 'Music': 1.6829654289355405,\n",
       " 'Mystery': 3.2749736429518452,\n",
       " 'Romance': 6.2917169021594521,\n",
       " 'Science Fiction': 4.796821514598796,\n",
       " 'TV Movie': 0.47162588046601528,\n",
       " 'Thriller': 10.042593415974052,\n",
       " 'War': 1.5115212996926917,\n",
       " 'Western': 1.5570791594773035}"
      ]
     },
     "execution_count": 357,
     "metadata": {},
     "output_type": "execute_result"
    }
   ],
   "source": [
    "mean = {}\n",
    "for _ in new_df1.columns[1:]: # coz firt row is year column\n",
    "    mean[_] = np.mean(new_df1[_])\n",
    "mean"
   ]
  },
  {
   "cell_type": "markdown",
   "metadata": {},
   "source": [
    "I am dropping all the genres except the top 5 ones."
   ]
  },
  {
   "cell_type": "code",
   "execution_count": 358,
   "metadata": {},
   "outputs": [
    {
     "data": {
      "text/plain": [
       "[17.61906181368045,\n",
       " 13.365996728567213,\n",
       " 10.042593415974052,\n",
       " 9.1828419473096972,\n",
       " 6.2917169021594521]"
      ]
     },
     "execution_count": 358,
     "metadata": {},
     "output_type": "execute_result"
    }
   ],
   "source": [
    "top_5 = []\n",
    "for _ in new_df1.columns[1:]:\n",
    "    top_5.append(np.mean(new_df1[_]))\n",
    "    top_5.sort(reverse = True)\n",
    "top_5[:5]"
   ]
  },
  {
   "cell_type": "markdown",
   "metadata": {},
   "source": [
    "These top 5 mean values are for Drama, Comedy, Thriller, Action, Romance. Now, visualising trends only for these genres:"
   ]
  },
  {
   "cell_type": "code",
   "execution_count": 359,
   "metadata": {},
   "outputs": [
    {
     "data": {
      "image/png": "[encoded data removed]",
      "text/plain": [
       "<matplotlib.figure.Figure at 0x7f19c36d0198>"
      ]
     },
     "metadata": {},
     "output_type": "display_data"
    }
   ],
   "source": [
    "import seaborn as sns\n",
    "g = ['Drama','Comedy','Thriller','Action','Romance']\n",
    "for genre in g:\n",
    "    plot = sns.regplot(y = new_df1[genre], x = new_df1['year'], lowess = True);\n",
    "plot.set_ylabel(\"\");\n",
    "plot.axvline(x = 1974, color = 'black', alpha = 0.7);"
   ]
  },
  {
   "cell_type": "markdown",
   "metadata": {},
   "source": [
    "### Research Question 2: What kinds of properties are associated with movies that have high revenues?"
   ]
  },
  {
   "cell_type": "code",
   "execution_count": 360,
   "metadata": {},
   "outputs": [
    {
     "data": {
      "text/html": [
       "<div>\n",
       "<style>\n",
       "    .dataframe thead tr:only-child th {\n",
       "        text-align: right;\n",
       "    }\n",
       "\n",
       "    .dataframe thead th {\n",
       "        text-align: left;\n",
       "    }\n",
       "\n",
       "    .dataframe tbody tr th {\n",
       "        vertical-align: top;\n",
       "    }\n",
       "</style>\n",
       "<table border=\"1\" class=\"dataframe\">\n",
       "  <thead>\n",
       "    <tr style=\"text-align: right;\">\n",
       "      <th></th>\n",
       "      <th>popularity</th>\n",
       "      <th>budget</th>\n",
       "      <th>revenue</th>\n",
       "      <th>cast</th>\n",
       "      <th>director</th>\n",
       "      <th>runtime</th>\n",
       "      <th>genres</th>\n",
       "      <th>release_date</th>\n",
       "      <th>vote_count</th>\n",
       "      <th>vote_average</th>\n",
       "      <th>release_year</th>\n",
       "      <th>budget_adj</th>\n",
       "      <th>revenue_adj</th>\n",
       "    </tr>\n",
       "  </thead>\n",
       "  <tbody>\n",
       "    <tr>\n",
       "      <th>10152</th>\n",
       "      <td>0.333643</td>\n",
       "      <td>0</td>\n",
       "      <td>0</td>\n",
       "      <td>Peter Cushing|Martita Hunt|Yvonne Monlaur|Fred...</td>\n",
       "      <td>Terence Fisher</td>\n",
       "      <td>85</td>\n",
       "      <td>Horror</td>\n",
       "      <td>1960-01-02</td>\n",
       "      <td>19</td>\n",
       "      <td>6.6</td>\n",
       "      <td>1960</td>\n",
       "      <td>0.0</td>\n",
       "      <td>0.0</td>\n",
       "    </tr>\n",
       "    <tr>\n",
       "      <th>10150</th>\n",
       "      <td>0.421043</td>\n",
       "      <td>0</td>\n",
       "      <td>0</td>\n",
       "      <td>Burt Lancaster|Audrey Hepburn|Audie Murphy|Joh...</td>\n",
       "      <td>John Huston</td>\n",
       "      <td>125</td>\n",
       "      <td>Action|Drama|Western</td>\n",
       "      <td>1960-01-02</td>\n",
       "      <td>17</td>\n",
       "      <td>4.9</td>\n",
       "      <td>1960</td>\n",
       "      <td>0.0</td>\n",
       "      <td>0.0</td>\n",
       "    </tr>\n",
       "    <tr>\n",
       "      <th>10162</th>\n",
       "      <td>0.194948</td>\n",
       "      <td>0</td>\n",
       "      <td>0</td>\n",
       "      <td>Kenneth More|Dana Wynter|Carl MÃ¶hner|Laurence...</td>\n",
       "      <td>Lewis Gilbert</td>\n",
       "      <td>97</td>\n",
       "      <td>Action|Drama|Foreign|History|War</td>\n",
       "      <td>1960-02-12</td>\n",
       "      <td>12</td>\n",
       "      <td>4.9</td>\n",
       "      <td>1960</td>\n",
       "      <td>0.0</td>\n",
       "      <td>0.0</td>\n",
       "    </tr>\n",
       "    <tr>\n",
       "      <th>10166</th>\n",
       "      <td>0.136525</td>\n",
       "      <td>0</td>\n",
       "      <td>0</td>\n",
       "      <td>Kenneth Connor|Charles Hawtrey|Sid James|Kenne...</td>\n",
       "      <td>Gerald Thomas</td>\n",
       "      <td>86</td>\n",
       "      <td>Comedy</td>\n",
       "      <td>1960-02-23</td>\n",
       "      <td>10</td>\n",
       "      <td>6.0</td>\n",
       "      <td>1960</td>\n",
       "      <td>0.0</td>\n",
       "      <td>0.0</td>\n",
       "    </tr>\n",
       "    <tr>\n",
       "      <th>10156</th>\n",
       "      <td>0.267118</td>\n",
       "      <td>0</td>\n",
       "      <td>0</td>\n",
       "      <td>Randolph Scott|Nancy Gates|Skip Homeier|Dyke J...</td>\n",
       "      <td>Budd Boetticher</td>\n",
       "      <td>73</td>\n",
       "      <td>Action|Western</td>\n",
       "      <td>1960-03-02</td>\n",
       "      <td>12</td>\n",
       "      <td>6.5</td>\n",
       "      <td>1960</td>\n",
       "      <td>0.0</td>\n",
       "      <td>0.0</td>\n",
       "    </tr>\n",
       "  </tbody>\n",
       "</table>\n",
       "</div>"
      ],
      "text/plain": [
       "       popularity  budget  revenue  \\\n",
       "10152    0.333643       0        0   \n",
       "10150    0.421043       0        0   \n",
       "10162    0.194948       0        0   \n",
       "10166    0.136525       0        0   \n",
       "10156    0.267118       0        0   \n",
       "\n",
       "                                                    cast         director  \\\n",
       "10152  Peter Cushing|Martita Hunt|Yvonne Monlaur|Fred...   Terence Fisher   \n",
       "10150  Burt Lancaster|Audrey Hepburn|Audie Murphy|Joh...      John Huston   \n",
       "10162  Kenneth More|Dana Wynter|Carl MÃ¶hner|Laurence...    Lewis Gilbert   \n",
       "10166  Kenneth Connor|Charles Hawtrey|Sid James|Kenne...    Gerald Thomas   \n",
       "10156  Randolph Scott|Nancy Gates|Skip Homeier|Dyke J...  Budd Boetticher   \n",
       "\n",
       "       runtime                            genres release_date  vote_count  \\\n",
       "10152       85                            Horror   1960-01-02          19   \n",
       "10150      125              Action|Drama|Western   1960-01-02          17   \n",
       "10162       97  Action|Drama|Foreign|History|War   1960-02-12          12   \n",
       "10166       86                            Comedy   1960-02-23          10   \n",
       "10156       73                    Action|Western   1960-03-02          12   \n",
       "\n",
       "       vote_average  release_year  budget_adj  revenue_adj  \n",
       "10152           6.6          1960         0.0          0.0  \n",
       "10150           4.9          1960         0.0          0.0  \n",
       "10162           4.9          1960         0.0          0.0  \n",
       "10166           6.0          1960         0.0          0.0  \n",
       "10156           6.5          1960         0.0          0.0  "
      ]
     },
     "execution_count": 360,
     "metadata": {},
     "output_type": "execute_result"
    }
   ],
   "source": [
    "df.head()"
   ]
  },
  {
   "cell_type": "markdown",
   "metadata": {},
   "source": [
    "Taking inflation into account. Removing `budget` and `revenue` columns:"
   ]
  },
  {
   "cell_type": "code",
   "execution_count": 361,
   "metadata": {},
   "outputs": [],
   "source": [
    "df.drop(['revenue', 'budget'], axis = 1, inplace = True)"
   ]
  },
  {
   "cell_type": "code",
   "execution_count": 362,
   "metadata": {},
   "outputs": [
    {
     "data": {
      "text/html": [
       "<div>\n",
       "<style>\n",
       "    .dataframe thead tr:only-child th {\n",
       "        text-align: right;\n",
       "    }\n",
       "\n",
       "    .dataframe thead th {\n",
       "        text-align: left;\n",
       "    }\n",
       "\n",
       "    .dataframe tbody tr th {\n",
       "        vertical-align: top;\n",
       "    }\n",
       "</style>\n",
       "<table border=\"1\" class=\"dataframe\">\n",
       "  <thead>\n",
       "    <tr style=\"text-align: right;\">\n",
       "      <th></th>\n",
       "      <th>popularity</th>\n",
       "      <th>cast</th>\n",
       "      <th>director</th>\n",
       "      <th>runtime</th>\n",
       "      <th>genres</th>\n",
       "      <th>release_date</th>\n",
       "      <th>vote_count</th>\n",
       "      <th>vote_average</th>\n",
       "      <th>release_year</th>\n",
       "      <th>budget_adj</th>\n",
       "      <th>revenue_adj</th>\n",
       "    </tr>\n",
       "  </thead>\n",
       "  <tbody>\n",
       "    <tr>\n",
       "      <th>10152</th>\n",
       "      <td>0.333643</td>\n",
       "      <td>Peter Cushing|Martita Hunt|Yvonne Monlaur|Fred...</td>\n",
       "      <td>Terence Fisher</td>\n",
       "      <td>85</td>\n",
       "      <td>Horror</td>\n",
       "      <td>1960-01-02</td>\n",
       "      <td>19</td>\n",
       "      <td>6.6</td>\n",
       "      <td>1960</td>\n",
       "      <td>0.0</td>\n",
       "      <td>0.0</td>\n",
       "    </tr>\n",
       "    <tr>\n",
       "      <th>10150</th>\n",
       "      <td>0.421043</td>\n",
       "      <td>Burt Lancaster|Audrey Hepburn|Audie Murphy|Joh...</td>\n",
       "      <td>John Huston</td>\n",
       "      <td>125</td>\n",
       "      <td>Action|Drama|Western</td>\n",
       "      <td>1960-01-02</td>\n",
       "      <td>17</td>\n",
       "      <td>4.9</td>\n",
       "      <td>1960</td>\n",
       "      <td>0.0</td>\n",
       "      <td>0.0</td>\n",
       "    </tr>\n",
       "    <tr>\n",
       "      <th>10162</th>\n",
       "      <td>0.194948</td>\n",
       "      <td>Kenneth More|Dana Wynter|Carl MÃ¶hner|Laurence...</td>\n",
       "      <td>Lewis Gilbert</td>\n",
       "      <td>97</td>\n",
       "      <td>Action|Drama|Foreign|History|War</td>\n",
       "      <td>1960-02-12</td>\n",
       "      <td>12</td>\n",
       "      <td>4.9</td>\n",
       "      <td>1960</td>\n",
       "      <td>0.0</td>\n",
       "      <td>0.0</td>\n",
       "    </tr>\n",
       "    <tr>\n",
       "      <th>10166</th>\n",
       "      <td>0.136525</td>\n",
       "      <td>Kenneth Connor|Charles Hawtrey|Sid James|Kenne...</td>\n",
       "      <td>Gerald Thomas</td>\n",
       "      <td>86</td>\n",
       "      <td>Comedy</td>\n",
       "      <td>1960-02-23</td>\n",
       "      <td>10</td>\n",
       "      <td>6.0</td>\n",
       "      <td>1960</td>\n",
       "      <td>0.0</td>\n",
       "      <td>0.0</td>\n",
       "    </tr>\n",
       "    <tr>\n",
       "      <th>10156</th>\n",
       "      <td>0.267118</td>\n",
       "      <td>Randolph Scott|Nancy Gates|Skip Homeier|Dyke J...</td>\n",
       "      <td>Budd Boetticher</td>\n",
       "      <td>73</td>\n",
       "      <td>Action|Western</td>\n",
       "      <td>1960-03-02</td>\n",
       "      <td>12</td>\n",
       "      <td>6.5</td>\n",
       "      <td>1960</td>\n",
       "      <td>0.0</td>\n",
       "      <td>0.0</td>\n",
       "    </tr>\n",
       "  </tbody>\n",
       "</table>\n",
       "</div>"
      ],
      "text/plain": [
       "       popularity                                               cast  \\\n",
       "10152    0.333643  Peter Cushing|Martita Hunt|Yvonne Monlaur|Fred...   \n",
       "10150    0.421043  Burt Lancaster|Audrey Hepburn|Audie Murphy|Joh...   \n",
       "10162    0.194948  Kenneth More|Dana Wynter|Carl MÃ¶hner|Laurence...   \n",
       "10166    0.136525  Kenneth Connor|Charles Hawtrey|Sid James|Kenne...   \n",
       "10156    0.267118  Randolph Scott|Nancy Gates|Skip Homeier|Dyke J...   \n",
       "\n",
       "              director  runtime                            genres  \\\n",
       "10152   Terence Fisher       85                            Horror   \n",
       "10150      John Huston      125              Action|Drama|Western   \n",
       "10162    Lewis Gilbert       97  Action|Drama|Foreign|History|War   \n",
       "10166    Gerald Thomas       86                            Comedy   \n",
       "10156  Budd Boetticher       73                    Action|Western   \n",
       "\n",
       "      release_date  vote_count  vote_average  release_year  budget_adj  \\\n",
       "10152   1960-01-02          19           6.6          1960         0.0   \n",
       "10150   1960-01-02          17           4.9          1960         0.0   \n",
       "10162   1960-02-12          12           4.9          1960         0.0   \n",
       "10166   1960-02-23          10           6.0          1960         0.0   \n",
       "10156   1960-03-02          12           6.5          1960         0.0   \n",
       "\n",
       "       revenue_adj  \n",
       "10152          0.0  \n",
       "10150          0.0  \n",
       "10162          0.0  \n",
       "10166          0.0  \n",
       "10156          0.0  "
      ]
     },
     "execution_count": 362,
     "metadata": {},
     "output_type": "execute_result"
    }
   ],
   "source": [
    "df.head()"
   ]
  },
  {
   "cell_type": "markdown",
   "metadata": {},
   "source": [
    "Let's see the distribution of `revenue_adj` column:"
   ]
  },
  {
   "cell_type": "code",
   "execution_count": 363,
   "metadata": {},
   "outputs": [
    {
     "data": {
      "image/png": "[encoded data removed]",
      "text/plain": [
       "<matplotlib.figure.Figure at 0x7f19d1b9dcf8>"
      ]
     },
     "metadata": {},
     "output_type": "display_data"
    }
   ],
   "source": [
    "plt.hist(x = df['revenue_adj']);\n",
    "plt.xlabel('revenue');"
   ]
  },
  {
   "cell_type": "markdown",
   "metadata": {},
   "source": [
    "This is skewed distribution. Let's see the summary of `revenue_adj` column:"
   ]
  },
  {
   "cell_type": "code",
   "execution_count": 364,
   "metadata": {},
   "outputs": [
    {
     "data": {
      "text/plain": [
       "count    1.073100e+04\n",
       "mean     5.200623e+07\n",
       "std      1.454252e+08\n",
       "min      0.000000e+00\n",
       "25%      0.000000e+00\n",
       "50%      0.000000e+00\n",
       "75%      3.470546e+07\n",
       "max      2.827124e+09\n",
       "Name: revenue_adj, dtype: float64"
      ]
     },
     "execution_count": 364,
     "metadata": {},
     "output_type": "execute_result"
    }
   ],
   "source": [
    "df['revenue_adj'].describe()"
   ]
  },
  {
   "cell_type": "markdown",
   "metadata": {},
   "source": [
    "Minimum value in `revenue_adj` is 0. That's why our distribution is skewed. Let's see how many such rows are there."
   ]
  },
  {
   "cell_type": "code",
   "execution_count": 365,
   "metadata": {},
   "outputs": [
    {
     "data": {
      "text/plain": [
       "(5888, 54.86907091603765)"
      ]
     },
     "execution_count": 365,
     "metadata": {},
     "output_type": "execute_result"
    }
   ],
   "source": [
    "# minimum value of revenue is 0.\n",
    "df[df['revenue_adj'] == min(df['revenue_adj'])].shape[0], 100*(df[df['revenue_adj'] == min(df['revenue_adj'])].shape[0])/df.shape[0]"
   ]
  },
  {
   "cell_type": "markdown",
   "metadata": {},
   "source": [
    "5888 movies have no revenue. It is more than 50% of `df`.This will skew our distribution for `revenue_adj` column.<br>In order to correctly know the properties of high revenue movies, it is important to remove movies which have no revenue."
   ]
  },
  {
   "cell_type": "code",
   "execution_count": 366,
   "metadata": {},
   "outputs": [],
   "source": [
    "df_r2 = df.query(\"revenue_adj != 0\")"
   ]
  },
  {
   "cell_type": "code",
   "execution_count": 367,
   "metadata": {},
   "outputs": [
    {
     "data": {
      "image/png": "[encoded data removed]",
      "text/plain": [
       "<matplotlib.figure.Figure at 0x7f19d1b8b9b0>"
      ]
     },
     "metadata": {},
     "output_type": "display_data"
    }
   ],
   "source": [
    "plt.scatter(x = df_r2[\"budget_adj\"], y = df_r2['revenue_adj'],alpha = 0.4);\n",
    "plt.xlabel(\"budget\");\n",
    "plt.ylabel(\"revenue\");\n",
    "plt.axvline(x = 100000000, color = 'red', alpha = 0.7);"
   ]
  },
  {
   "cell_type": "markdown",
   "metadata": {},
   "source": [
    "From the scatterplot, it is clear that revenue is not strongly dependent on budget of movie. There are few movies which have high revenue. Budget of most of the movies is less than $100m. "
   ]
  },
  {
   "cell_type": "code",
   "execution_count": 368,
   "metadata": {},
   "outputs": [
    {
     "data": {
      "image/png": "[encoded data removed]",
      "text/plain": [
       "<matplotlib.figure.Figure at 0x7f19c58beac8>"
      ]
     },
     "metadata": {},
     "output_type": "display_data"
    }
   ],
   "source": [
    "plt.scatter(x = df_r2['vote_average'],y = df_r2['revenue_adj'], alpha = 0.1);\n",
    "plt.xlabel(\"avg_vote\");\n",
    "plt.ylabel(\"revenue\");\n",
    "plt.axvline(x = np.mean(df['vote_average']), color = 'red');"
   ]
  },
  {
   "cell_type": "markdown",
   "metadata": {},
   "source": [
    "This graph shows that high revenue movies have voting above average."
   ]
  },
  {
   "cell_type": "code",
   "execution_count": 369,
   "metadata": {},
   "outputs": [
    {
     "data": {
      "image/png": "[encoded data removed]",
      "text/plain": [
       "<matplotlib.figure.Figure at 0x7f19c3dff828>"
      ]
     },
     "metadata": {},
     "output_type": "display_data"
    }
   ],
   "source": [
    "plt.scatter(df_r2[\"vote_count\"], df_r2['revenue_adj'], alpha = 0.1);\n",
    "plt.xlabel(\"vote_count\");\n",
    "plt.ylabel(\"revenue\");"
   ]
  },
  {
   "cell_type": "markdown",
   "metadata": {},
   "source": [
    "There is a positive correlation between revenue and vote_count but not strong enough to make any conclusion."
   ]
  },
  {
   "cell_type": "code",
   "execution_count": 370,
   "metadata": {},
   "outputs": [
    {
     "data": {
      "image/png": "[encoded data removed]",
      "text/plain": [
       "<matplotlib.figure.Figure at 0x7f19c3ed9588>"
      ]
     },
     "metadata": {},
     "output_type": "display_data"
    }
   ],
   "source": [
    "plt.scatter(x = df_r2['release_year'], y = df_r2['revenue_adj'], alpha = 0.3);\n",
    "plt.xlabel('year');\n",
    "plt.ylabel('revenue');\n",
    "plt.axhline(y = np.mean(df_r2['revenue_adj']), color = 'red', alpha = 0.7)\n",
    "plt.title('Revenue vs Year');"
   ]
  },
  {
   "cell_type": "markdown",
   "metadata": {},
   "source": [
    "The increasing density of blue color shows that number of high revenue movies has increased from 1960 to 2015. The red line is for mean of `revenue_adj` column."
   ]
  },
  {
   "cell_type": "markdown",
   "metadata": {},
   "source": [
    "### Research Question 3: Which movie are popular year by year?"
   ]
  },
  {
   "cell_type": "code",
   "execution_count": 371,
   "metadata": {},
   "outputs": [
    {
     "data": {
      "text/plain": [
       "count    10731.000000\n",
       "mean         0.652615\n",
       "std          1.004804\n",
       "min          0.000188\n",
       "25%          0.210765\n",
       "50%          0.387081\n",
       "75%          0.720889\n",
       "max         32.985763\n",
       "Name: popularity, dtype: float64"
      ]
     },
     "execution_count": 371,
     "metadata": {},
     "output_type": "execute_result"
    }
   ],
   "source": [
    "df['popularity'].describe()"
   ]
  },
  {
   "cell_type": "code",
   "execution_count": 372,
   "metadata": {},
   "outputs": [
    {
     "data": {
      "image/png": "[encoded data removed]",
      "text/plain": [
       "<matplotlib.figure.Figure at 0x7f19c53123c8>"
      ]
     },
     "metadata": {},
     "output_type": "display_data"
    }
   ],
   "source": [
    "plt.scatter(x = df['runtime'],y = df['popularity'], alpha = 0.3)\n",
    "plt.axvline(x = df['runtime'].mean(), color = \"red\");\n",
    "plt.axvline(x = np.mean(df['runtime']) + 3*np.std(df['runtime']), color = 'red')\n",
    "plt.xlabel(\"runtime\");\n",
    "plt.ylabel(\"popularity\");\n",
    "plt.title('Popularity vs Runtime');"
   ]
  },
  {
   "cell_type": "code",
   "execution_count": 373,
   "metadata": {},
   "outputs": [
    {
     "data": {
      "text/plain": [
       "30.492451716812749"
      ]
     },
     "execution_count": 373,
     "metadata": {},
     "output_type": "execute_result"
    }
   ],
   "source": [
    "np.std(df['runtime'])"
   ]
  },
  {
   "cell_type": "code",
   "execution_count": 374,
   "metadata": {},
   "outputs": [
    {
     "data": {
      "text/plain": [
       "102.46882862734135"
      ]
     },
     "execution_count": 374,
     "metadata": {},
     "output_type": "execute_result"
    }
   ],
   "source": [
    "df['runtime'].mean()"
   ]
  },
  {
   "cell_type": "markdown",
   "metadata": {},
   "source": [
    "Average runtime of movies is around 102 minute. All the  popular movies have runtime more than 102 minute. First vertical line is for `np.mean(df['runtime'])` and second vertical line is for `np.mean(df['runtime']) + 3*np.std(df['runtime'])`."
   ]
  },
  {
   "cell_type": "code",
   "execution_count": 375,
   "metadata": {},
   "outputs": [
    {
     "data": {
      "image/png": "[encoded data removed]",
      "text/plain": [
       "<matplotlib.figure.Figure at 0x7f19c4fdc940>"
      ]
     },
     "metadata": {},
     "output_type": "display_data"
    }
   ],
   "source": [
    "plt.scatter(x = df['budget_adj'], y = df['popularity'], alpha = 0.3);\n",
    "plt.xlabel('budget');\n",
    "plt.ylabel('popularity');\n",
    "plt.title('Popularity vs Budget');\n",
    "plt.axvline(x = 100000000, color = 'red', alpha = 0.7);\n",
    "plt.axvline(x = 200000000, color = 'red', alpha = 0.7);"
   ]
  },
  {
   "cell_type": "markdown",
   "metadata": {},
   "source": [
    "Popular movies have budget between $100m and 200m."
   ]
  },
  {
   "cell_type": "code",
   "execution_count": 376,
   "metadata": {},
   "outputs": [
    {
     "data": {
      "image/png": "[encoded data removed]",
      "text/plain": [
       "<matplotlib.figure.Figure at 0x7f19c5025780>"
      ]
     },
     "metadata": {},
     "output_type": "display_data"
    }
   ],
   "source": [
    "plt.scatter(x = df_r2['release_year'], y = df_r2['popularity'],alpha= 0.4);\n",
    "plt.xlabel('year');\n",
    "plt.ylabel('popularity');\n",
    "plt.title('Popularity vs Release Year');\n",
    "plt.axhline(y = np.mean(df['popularity']), color = 'red', alpha = 0.7);"
   ]
  },
  {
   "cell_type": "markdown",
   "metadata": {},
   "source": [
    "Popularity of movies has increased from 1960 to 2015, 2015 showing the highest popularity movies."
   ]
  },
  {
   "cell_type": "code",
   "execution_count": 377,
   "metadata": {},
   "outputs": [
    {
     "data": {
      "image/png": "[encoded data removed]",
      "text/plain": [
       "<matplotlib.figure.Figure at 0x7f19c2e422e8>"
      ]
     },
     "metadata": {},
     "output_type": "display_data"
    }
   ],
   "source": [
    "plt.scatter(x = df['vote_count'], y = df['popularity'], alpha = 0.1);\n",
    "plt.xlabel('vote_count');\n",
    "plt.ylabel('popularity');\n",
    "plt.axvline(x = 2000, color = 'red');\n",
    "plt.title('Popularity vs Vote Count');\n"
   ]
  },
  {
   "cell_type": "markdown",
   "metadata": {},
   "source": [
    "Above graph shows that popular movies have high vote count, wheras all the less popular movies have vote count less than 2000. The vertical line shows this trend."
   ]
  },
  {
   "cell_type": "code",
   "execution_count": 378,
   "metadata": {},
   "outputs": [
    {
     "data": {
      "image/png": "[encoded data removed]",
      "text/plain": [
       "<matplotlib.figure.Figure at 0x7f19d1c5d978>"
      ]
     },
     "metadata": {},
     "output_type": "display_data"
    }
   ],
   "source": [
    "plt.scatter(x = df['vote_average'], y = df['popularity'], alpha = 0.1);\n",
    "plt.xlabel('vote_average');\n",
    "plt.ylabel('popularity');\n",
    "plt.axvline(x = np.mean(df['vote_average']), color = \"red\");\n",
    "plt.title('Popularity vs Average Vote');"
   ]
  },
  {
   "cell_type": "markdown",
   "metadata": {},
   "source": [
    "Popular movies also have above average voting."
   ]
  },
  {
   "cell_type": "code",
   "execution_count": 379,
   "metadata": {},
   "outputs": [
    {
     "data": {
      "image/png": "[encoded data removed]",
      "text/plain": [
       "<matplotlib.figure.Figure at 0x7f19c2b67710>"
      ]
     },
     "metadata": {},
     "output_type": "display_data"
    }
   ],
   "source": [
    "plt.scatter(x = df['revenue_adj'], y = df['popularity'], alpha = 0.1);\n",
    "plt.xlabel('revenue');\n",
    "plt.ylabel('popularity');\n",
    "plt.title('Popularity vs Revenue');"
   ]
  },
  {
   "cell_type": "markdown",
   "metadata": {},
   "source": [
    "There is no conclusion regarding popularity of a movie with its revenue."
   ]
  },
  {
   "cell_type": "markdown",
   "metadata": {},
   "source": [
    "<a id='conclusions'></a>\n",
    "## Conclusions\n",
    "\n",
    "### Research Question 1\n",
    "Most popular genres from 1960-2015 are Drama, Comedy, Thriller, Action and Romance respectively. Drama and comedy movies are consistently on top 2 spots, but there are some position shifting in thriller and action movies around year 1974. From 1974, popularity of action movies have declined. Fifth spot comes for romance movies.\n",
    "### Research Question 2\n",
    "I had to remove half of the entries in `revenue_adj` column to see the properties of **high-revenue** movies. There was no appropriate dependency of revenue on budget. Most of the high revenue generating movies have voting above average. As the average voting for a movie increased, its revenue also increased. If we try curve fitting for `revenue_adj` vs `vote_average` column then we would get an upward parabola or exponential.\n",
    "\n",
    "### Research Question 3\n",
    "Most of the popular movies have their runtime equal to or more than the average of `runtime` column. The vertical lines show this trend. The budget for the popular movies is between $100m and 200m , but I have not shown the exact budget values because it is not equal to any statistic of `budget_adj` column. Popularity and interest in movies have increase from time to time. In the **Popularity vs Year** graph, we can see that 2015 saw highest popular movies of all time. **Popularity vs Average Voting** graph shows that all popular movies have above average voting."
   ]
  },
  {
   "cell_type": "code",
   "execution_count": 381,
   "metadata": {},
   "outputs": [
    {
     "data": {
      "text/plain": [
       "0"
      ]
     },
     "execution_count": 381,
     "metadata": {},
     "output_type": "execute_result"
    }
   ],
   "source": [
    "from subprocess import call\n",
    "call(['python', '-m', 'nbconvert', 'Investigate_a_Dataset.ipynb'])"
   ]
  }
 ],
 "metadata": {
  "kernelspec": {
   "display_name": "Python 3",
   "language": "python",
   "name": "python3"
  },
  "language_info": {
   "codemirror_mode": {
    "name": "ipython",
    "version": 2
   },
   "file_extension": ".py",
   "mimetype": "text/x-python",
   "name": "python",
   "nbconvert_exporter": "python",
   "pygments_lexer": "ipython2",
   "version": "2.7.14"
  }
 },
 "nbformat": 4,
 "nbformat_minor": 2
}
